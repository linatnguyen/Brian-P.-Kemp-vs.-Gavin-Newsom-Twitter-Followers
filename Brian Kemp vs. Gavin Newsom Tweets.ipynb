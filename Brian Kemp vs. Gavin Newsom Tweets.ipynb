{
 "cells": [
  {
   "cell_type": "markdown",
   "id": "951ba5f5",
   "metadata": {},
   "source": [
    "# Brian Kemp vs. Gavin Newsom Tweets"
   ]
  },
  {
   "cell_type": "markdown",
   "id": "064e1192",
   "metadata": {},
   "source": [
    "# Twitter API Pull"
   ]
  },
  {
   "cell_type": "code",
   "execution_count": 1,
   "id": "62ce3666",
   "metadata": {},
   "outputs": [],
   "source": [
    "# for the twitter section\n",
    "import tweepy\n",
    "import os\n",
    "import datetime\n",
    "import re\n",
    "from pprint import pprint\n",
    "\n",
    "# for the lyrics scrape section\n",
    "import requests\n",
    "import time\n",
    "from bs4 import BeautifulSoup\n",
    "from collections import defaultdict, Counter\n",
    "\n",
    "import os\n",
    "import re\n",
    "import emoji\n",
    "import pandas as pd\n",
    "import numpy as np\n",
    "import matplotlib.pyplot as plt\n",
    "\n",
    "from collections import Counter, defaultdict\n",
    "from nltk.corpus import stopwords\n",
    "from string import punctuation\n",
    "\n",
    "sw = stopwords.words(\"english\")\n",
    "\n",
    "#!pip install sklearn\n",
    "#!pip install xgboost\n",
    "#!pip install apikeys\n",
    "#!pip install \"apikey>=0.2.1\"\n",
    "\n",
    "from sklearn.model_selection import train_test_split\n",
    "from sklearn.feature_extraction.text import TfidfVectorizer, ENGLISH_STOP_WORDS\n",
    "from sklearn.ensemble import RandomForestClassifier\n",
    "from xgboost import XGBClassifier\n",
    "from sklearn.metrics import classification_report\n",
    "import apikey\n",
    "from sklearn.decomposition import LatentDirichletAllocation\n",
    "#!pip install pyLDAvis\n",
    "from sklearn.decomposition import TruncatedSVD\n",
    "import pyLDAvis\n",
    "import pyLDAvis.sklearn\n",
    "import pyLDAvis.gensim_models\n",
    "from sklearn.linear_model import LogisticRegression\n",
    "from sklearn.decomposition import NMF, TruncatedSVD, LatentDirichletAllocation\n",
    "import warnings\n",
    "warnings.simplefilter(action='ignore', category=FutureWarning)\n",
    "import string\n",
    "from string import punctuation\n",
    "import warnings\n",
    "warnings.filterwarnings('ignore')"
   ]
  },
  {
   "cell_type": "code",
   "execution_count": 2,
   "id": "c56ff7c0",
   "metadata": {},
   "outputs": [],
   "source": [
    "api_key='LUKbDXuSS6Z8tZoYvHtyS0OPk'\n",
    "api_key_secret= 'dS9w5HSHhAAgEHrJPmnIiizEytWiGYITnxJkx1BeGfYJdeDyx1'\n",
    "access_token= '1524139829268664321-7ftbINxgsCgcYUANOQJHDi4LzFLaQb'\n",
    "access_token_secret= 'aZJ2tRZuc0RU4qUeCGEMkEty0GGoRCSeUSqMJY8H9Tp1e'\n",
    "\n",
    "auth = tweepy.AppAuthHandler(api_key, api_key_secret)\n",
    "api = tweepy.API(auth,wait_on_rate_limit = True)"
   ]
  },
  {
   "cell_type": "code",
   "execution_count": 3,
   "id": "67576c12",
   "metadata": {},
   "outputs": [
    {
     "data": {
      "text/plain": [
       "'/Users/linanguyen/ADS 509 '"
      ]
     },
     "execution_count": 3,
     "metadata": {},
     "output_type": "execute_result"
    }
   ],
   "source": [
    "pwd"
   ]
  },
  {
   "cell_type": "markdown",
   "id": "3758c3d3",
   "metadata": {},
   "source": [
    "We need bring in our API keys. Since API keys should be kept secret, we'll keep them in a file called `api_keys.py`. This file should be stored in the directory where you store this notebook. The example file is provided for you on Blackboard. The example has API keys that are _not_ functional, so you'll need to get Twitter credentials and replace the placeholder keys. "
   ]
  },
  {
   "cell_type": "code",
   "execution_count": 4,
   "id": "d7a8f670",
   "metadata": {},
   "outputs": [],
   "source": [
    "auth = tweepy.AppAuthHandler(api_key, api_key_secret)\n",
    "api = tweepy.API(auth,wait_on_rate_limit = True)"
   ]
  },
  {
   "cell_type": "code",
   "execution_count": 5,
   "id": "28374688",
   "metadata": {},
   "outputs": [],
   "source": [
    "tweet_data = {}"
   ]
  },
  {
   "cell_type": "code",
   "execution_count": 6,
   "id": "75621e31",
   "metadata": {},
   "outputs": [],
   "source": [
    "tweets = api.user_timeline(screen_name=\"briankempga\", count=200, tweet_mode='extended')\n",
    "all_tweets = []\n",
    "all_tweets.extend(tweets)\n",
    "oldest_id = tweets[-1].id\n",
    "while True:\n",
    "    tweets = api.user_timeline(screen_name=\"briankempga\", count=200,\n",
    "     max_id = oldest_id - 1,\n",
    "     tweet_mode='extended')\n",
    "    if len(tweets) == 0:\n",
    "        break\n",
    "    oldest_id = tweets[-1].id\n",
    "    all_tweets.extend(tweets)\n",
    "tweet_data[\"briankempga\"] = all_tweets"
   ]
  },
  {
   "cell_type": "code",
   "execution_count": 7,
   "id": "9d91027b",
   "metadata": {},
   "outputs": [],
   "source": [
    "tweets = api.user_timeline(screen_name=\"gavinnewsom\", count=200, tweet_mode='extended')\n",
    "all_tweets = []\n",
    "all_tweets.extend(tweets)\n",
    "oldest_id = tweets[-1].id\n",
    "while True:\n",
    "    tweets = api.user_timeline(screen_name=\"gavinnewsom\", count=200,\n",
    "     max_id = oldest_id - 1,\n",
    "     tweet_mode='extended')\n",
    "    if len(tweets) == 0:\n",
    "        break\n",
    "    oldest_id = tweets[-1].id\n",
    "    all_tweets.extend(tweets)\n",
    "tweet_data[\"gavinnewsom\"] = all_tweets"
   ]
  },
  {
   "cell_type": "code",
   "execution_count": 8,
   "id": "4433d53d",
   "metadata": {},
   "outputs": [],
   "source": [
    "res = []\n",
    "for key, val in tweet_data.items():\n",
    "    for item in val:\n",
    "        res.append([key, item.full_text])\n",
    "df = pd.DataFrame(res, columns=['id', 'text'])"
   ]
  },
  {
   "cell_type": "markdown",
   "id": "f664f36e",
   "metadata": {},
   "source": [
    "First we extract the last 3000 tweets of two governers. Then we use a classification model to predict the owner of tweet from the tweet by using NLP and modeling"
   ]
  },
  {
   "cell_type": "code",
   "execution_count": 9,
   "id": "fe008426",
   "metadata": {},
   "outputs": [
    {
     "data": {
      "text/html": [
       "<div>\n",
       "<style scoped>\n",
       "    .dataframe tbody tr th:only-of-type {\n",
       "        vertical-align: middle;\n",
       "    }\n",
       "\n",
       "    .dataframe tbody tr th {\n",
       "        vertical-align: top;\n",
       "    }\n",
       "\n",
       "    .dataframe thead th {\n",
       "        text-align: right;\n",
       "    }\n",
       "</style>\n",
       "<table border=\"1\" class=\"dataframe\">\n",
       "  <thead>\n",
       "    <tr style=\"text-align: right;\">\n",
       "      <th></th>\n",
       "      <th>id</th>\n",
       "      <th>text</th>\n",
       "    </tr>\n",
       "  </thead>\n",
       "  <tbody>\n",
       "    <tr>\n",
       "      <th>0</th>\n",
       "      <td>briankempga</td>\n",
       "      <td>RT @GOPGovs: Governor Brian Kemp supports law ...</td>\n",
       "    </tr>\n",
       "    <tr>\n",
       "      <th>1</th>\n",
       "      <td>briankempga</td>\n",
       "      <td>ICYMI: In her own words, Stacey Abrams is a \"Y...</td>\n",
       "    </tr>\n",
       "    <tr>\n",
       "      <th>2</th>\n",
       "      <td>briankempga</td>\n",
       "      <td>For years, Stacey Abrams has been aligned with...</td>\n",
       "    </tr>\n",
       "    <tr>\n",
       "      <th>3</th>\n",
       "      <td>briankempga</td>\n",
       "      <td>We had a great crowd at our lunch in Winder to...</td>\n",
       "    </tr>\n",
       "    <tr>\n",
       "      <th>4</th>\n",
       "      <td>briankempga</td>\n",
       "      <td>RT @GovKemp: https://t.co/YMNGbJKgQq</td>\n",
       "    </tr>\n",
       "  </tbody>\n",
       "</table>\n",
       "</div>"
      ],
      "text/plain": [
       "            id                                               text\n",
       "0  briankempga  RT @GOPGovs: Governor Brian Kemp supports law ...\n",
       "1  briankempga  ICYMI: In her own words, Stacey Abrams is a \"Y...\n",
       "2  briankempga  For years, Stacey Abrams has been aligned with...\n",
       "3  briankempga  We had a great crowd at our lunch in Winder to...\n",
       "4  briankempga               RT @GovKemp: https://t.co/YMNGbJKgQq"
      ]
     },
     "execution_count": 9,
     "metadata": {},
     "output_type": "execute_result"
    }
   ],
   "source": [
    "df.head()"
   ]
  },
  {
   "cell_type": "code",
   "execution_count": 10,
   "id": "3db949c3",
   "metadata": {},
   "outputs": [],
   "source": [
    "def clean_text(txt):\n",
    "    if type(txt) != str:\n",
    "        return \"\"\n",
    "    txt = txt.lower()\n",
    "    txt = re.sub('@[A-Za-z0-9_]+', '', txt)\n",
    "    txt = re.sub('#[A-Za-z0-9_]+', '', txt)\n",
    "    txt = re.sub(r'http\\S+', '', txt)\n",
    "    txt = txt.replace('\\n', ' ')\n",
    "    txt = re.sub('\\s+', ' ', txt)\n",
    "    txt = re.sub('[^a-z\\s]','', txt)\n",
    "    return txt"
   ]
  },
  {
   "cell_type": "code",
   "execution_count": 11,
   "id": "250630c6",
   "metadata": {},
   "outputs": [],
   "source": [
    "df['clean_text'] = df['text'].apply(clean_text)"
   ]
  },
  {
   "cell_type": "code",
   "execution_count": 12,
   "id": "e6c87ad2",
   "metadata": {},
   "outputs": [
    {
     "data": {
      "text/html": [
       "<div>\n",
       "<style scoped>\n",
       "    .dataframe tbody tr th:only-of-type {\n",
       "        vertical-align: middle;\n",
       "    }\n",
       "\n",
       "    .dataframe tbody tr th {\n",
       "        vertical-align: top;\n",
       "    }\n",
       "\n",
       "    .dataframe thead th {\n",
       "        text-align: right;\n",
       "    }\n",
       "</style>\n",
       "<table border=\"1\" class=\"dataframe\">\n",
       "  <thead>\n",
       "    <tr style=\"text-align: right;\">\n",
       "      <th></th>\n",
       "      <th>id</th>\n",
       "      <th>text</th>\n",
       "      <th>clean_text</th>\n",
       "    </tr>\n",
       "  </thead>\n",
       "  <tbody>\n",
       "    <tr>\n",
       "      <th>0</th>\n",
       "      <td>briankempga</td>\n",
       "      <td>RT @GOPGovs: Governor Brian Kemp supports law ...</td>\n",
       "      <td>rt  governor brian kemp supports law and order...</td>\n",
       "    </tr>\n",
       "    <tr>\n",
       "      <th>1</th>\n",
       "      <td>briankempga</td>\n",
       "      <td>ICYMI: In her own words, Stacey Abrams is a \"Y...</td>\n",
       "      <td>icymi in her own words stacey abrams is a yes ...</td>\n",
       "    </tr>\n",
       "    <tr>\n",
       "      <th>2</th>\n",
       "      <td>briankempga</td>\n",
       "      <td>For years, Stacey Abrams has been aligned with...</td>\n",
       "      <td>for years stacey abrams has been aligned with ...</td>\n",
       "    </tr>\n",
       "    <tr>\n",
       "      <th>3</th>\n",
       "      <td>briankempga</td>\n",
       "      <td>We had a great crowd at our lunch in Winder to...</td>\n",
       "      <td>we had a great crowd at our lunch in winder to...</td>\n",
       "    </tr>\n",
       "    <tr>\n",
       "      <th>4</th>\n",
       "      <td>briankempga</td>\n",
       "      <td>RT @GovKemp: https://t.co/YMNGbJKgQq</td>\n",
       "      <td>rt</td>\n",
       "    </tr>\n",
       "  </tbody>\n",
       "</table>\n",
       "</div>"
      ],
      "text/plain": [
       "            id                                               text  \\\n",
       "0  briankempga  RT @GOPGovs: Governor Brian Kemp supports law ...   \n",
       "1  briankempga  ICYMI: In her own words, Stacey Abrams is a \"Y...   \n",
       "2  briankempga  For years, Stacey Abrams has been aligned with...   \n",
       "3  briankempga  We had a great crowd at our lunch in Winder to...   \n",
       "4  briankempga               RT @GovKemp: https://t.co/YMNGbJKgQq   \n",
       "\n",
       "                                          clean_text  \n",
       "0  rt  governor brian kemp supports law and order...  \n",
       "1  icymi in her own words stacey abrams is a yes ...  \n",
       "2  for years stacey abrams has been aligned with ...  \n",
       "3  we had a great crowd at our lunch in winder to...  \n",
       "4                                               rt    "
      ]
     },
     "execution_count": 12,
     "metadata": {},
     "output_type": "execute_result"
    }
   ],
   "source": [
    "df.head()"
   ]
  },
  {
   "cell_type": "code",
   "execution_count": 13,
   "id": "68ce0719",
   "metadata": {},
   "outputs": [
    {
     "data": {
      "text/plain": [
       "gavinnewsom    3249\n",
       "briankempga    3247\n",
       "Name: id, dtype: int64"
      ]
     },
     "execution_count": 13,
     "metadata": {},
     "output_type": "execute_result"
    }
   ],
   "source": [
    "df['id'].value_counts()"
   ]
  },
  {
   "cell_type": "code",
   "execution_count": 14,
   "id": "e19b34c5",
   "metadata": {},
   "outputs": [
    {
     "data": {
      "text/plain": [
       "((4547, 2), (1949, 2))"
      ]
     },
     "execution_count": 14,
     "metadata": {},
     "output_type": "execute_result"
    }
   ],
   "source": [
    "train, test = train_test_split(df[['id', 'clean_text']], test_size=0.3,shuffle=True, random_state=123)\n",
    "train.shape, test.shape"
   ]
  },
  {
   "cell_type": "code",
   "execution_count": 15,
   "id": "472e7c01",
   "metadata": {},
   "outputs": [],
   "source": [
    "# remove the word which can leak some information about the tweet owner\n",
    "mystopword = ENGLISH_STOP_WORDS.union(['ca', 'georgians','california', 'georgia', 'rt', 'ga'])"
   ]
  },
  {
   "cell_type": "code",
   "execution_count": 16,
   "id": "94d7465b",
   "metadata": {},
   "outputs": [
    {
     "data": {
      "text/plain": [
       "(4547, 7740)"
      ]
     },
     "execution_count": 16,
     "metadata": {},
     "output_type": "execute_result"
    }
   ],
   "source": [
    "vec = TfidfVectorizer(stop_words=mystopword)\n",
    "vec.fit(train['clean_text'])\n",
    "X_train = vec.transform(train['clean_text'])\n",
    "y_train = train['id']\n",
    "X_test = vec.transform(test['clean_text'])\n",
    "y_test = test['id']\n",
    "X_train.shape"
   ]
  },
  {
   "cell_type": "markdown",
   "id": "a4112ed5",
   "metadata": {},
   "source": [
    "### Random Forest Model"
   ]
  },
  {
   "cell_type": "code",
   "execution_count": 17,
   "id": "73c0e658",
   "metadata": {},
   "outputs": [
    {
     "name": "stdout",
     "output_type": "stream",
     "text": [
      "              precision    recall  f1-score   support\n",
      "\n",
      " briankempga       0.88      0.76      0.81       979\n",
      " gavinnewsom       0.78      0.90      0.84       970\n",
      "\n",
      "    accuracy                           0.83      1949\n",
      "   macro avg       0.83      0.83      0.83      1949\n",
      "weighted avg       0.83      0.83      0.83      1949\n",
      "\n"
     ]
    }
   ],
   "source": [
    "rf = RandomForestClassifier(max_depth=8)\n",
    "rf.fit(X_train, y_train)\n",
    "y_pred = rf.predict(X_test)\n",
    "print(classification_report(y_test, y_pred))"
   ]
  },
  {
   "cell_type": "code",
   "execution_count": 18,
   "id": "98c9d435",
   "metadata": {},
   "outputs": [
    {
     "data": {
      "image/png": "[encoded data removed]",
      "text/plain": [
       "<Figure size 1080x360 with 1 Axes>"
      ]
     },
     "metadata": {
      "needs_background": "light"
     },
     "output_type": "display_data"
    }
   ],
   "source": [
    "pd.Series(rf.feature_importances_, index=vec.get_feature_names()).\\\n",
    "    sort_values(ascending=False).head(30).plot(kind='bar', figsize=(15,5));"
   ]
  },
  {
   "cell_type": "markdown",
   "id": "46238b89",
   "metadata": {},
   "source": [
    "### XGB"
   ]
  },
  {
   "cell_type": "code",
   "execution_count": 19,
   "id": "edc4d267",
   "metadata": {},
   "outputs": [
    {
     "name": "stdout",
     "output_type": "stream",
     "text": [
      "              precision    recall  f1-score   support\n",
      "\n",
      " briankempga       0.86      0.84      0.85       979\n",
      " gavinnewsom       0.84      0.86      0.85       970\n",
      "\n",
      "    accuracy                           0.85      1949\n",
      "   macro avg       0.85      0.85      0.85      1949\n",
      "weighted avg       0.85      0.85      0.85      1949\n",
      "\n"
     ]
    }
   ],
   "source": [
    "xgb = XGBClassifier(max_depth=12, n_estimators=200)\n",
    "xgb.fit(X_train, 1*(y_train == 'briankempga'))\n",
    "y_pred = xgb.predict(X_test)\n",
    "y_pred = ['gavinnewsom' if x == 0 else 'briankempga' for x in y_pred]\n",
    "print(classification_report(y_test, y_pred))"
   ]
  },
  {
   "cell_type": "markdown",
   "id": "b0dbab59",
   "metadata": {},
   "source": [
    "### Logistic Regression "
   ]
  },
  {
   "cell_type": "code",
   "execution_count": 20,
   "id": "00511020",
   "metadata": {},
   "outputs": [
    {
     "data": {
      "text/plain": [
       "LogisticRegression()"
      ]
     },
     "execution_count": 20,
     "metadata": {},
     "output_type": "execute_result"
    }
   ],
   "source": [
    "lr = LogisticRegression()\n",
    "lr.fit(X_train, y_train)"
   ]
  },
  {
   "cell_type": "code",
   "execution_count": 21,
   "id": "34e598c6",
   "metadata": {},
   "outputs": [
    {
     "name": "stdout",
     "output_type": "stream",
     "text": [
      "Accuracy Score -  0.8902001026167266\n",
      "              precision    recall  f1-score   support\n",
      "\n",
      " briankempga       0.90      0.88      0.89       979\n",
      " gavinnewsom       0.88      0.91      0.89       970\n",
      "\n",
      "    accuracy                           0.89      1949\n",
      "   macro avg       0.89      0.89      0.89      1949\n",
      "weighted avg       0.89      0.89      0.89      1949\n",
      "\n"
     ]
    }
   ],
   "source": [
    "from sklearn.metrics import accuracy_score\n",
    "y_pred = lr.predict(X_test)\n",
    "print('Accuracy Score - ', accuracy_score(y_test, y_pred))\n",
    "print(classification_report(y_test, y_pred))"
   ]
  },
  {
   "cell_type": "markdown",
   "id": "959ef4de",
   "metadata": {},
   "source": [
    "### Naive Bayes Model"
   ]
  },
  {
   "cell_type": "code",
   "execution_count": 22,
   "id": "b211bcb7",
   "metadata": {},
   "outputs": [
    {
     "data": {
      "text/plain": [
       "GaussianNB()"
      ]
     },
     "execution_count": 22,
     "metadata": {},
     "output_type": "execute_result"
    }
   ],
   "source": [
    "# Vectorize text reviews to numbers\n",
    "from sklearn.naive_bayes import GaussianNB\n",
    "nb = GaussianNB()\n",
    "\n",
    "nb.fit(X_train.todense(), y_train)"
   ]
  },
  {
   "cell_type": "code",
   "execution_count": 23,
   "id": "96b0127e",
   "metadata": {},
   "outputs": [
    {
     "name": "stdout",
     "output_type": "stream",
     "text": [
      "Accuracy Score -  0.7788609543355567\n",
      "              precision    recall  f1-score   support\n",
      "\n",
      " briankempga       0.73      0.88      0.80       979\n",
      " gavinnewsom       0.85      0.68      0.75       970\n",
      "\n",
      "    accuracy                           0.78      1949\n",
      "   macro avg       0.79      0.78      0.78      1949\n",
      "weighted avg       0.79      0.78      0.78      1949\n",
      "\n"
     ]
    }
   ],
   "source": [
    "y_pred = nb.predict(X_test.todense())\n",
    "print('Accuracy Score - ', accuracy_score(y_test, y_pred))\n",
    "print(classification_report(y_test, y_pred))"
   ]
  },
  {
   "cell_type": "markdown",
   "id": "8b79449e",
   "metadata": {},
   "source": [
    "### Linear SVC Model"
   ]
  },
  {
   "cell_type": "code",
   "execution_count": 24,
   "id": "9bc01b87",
   "metadata": {},
   "outputs": [],
   "source": [
    "# HyperTuning Parameters with Validation Set\n",
    "from sklearn.svm import LinearSVC\n",
    "lsvc = LinearSVC(verbose=0)"
   ]
  },
  {
   "cell_type": "code",
   "execution_count": 25,
   "id": "55daad85",
   "metadata": {},
   "outputs": [
    {
     "data": {
      "text/plain": [
       "LinearSVC()"
      ]
     },
     "execution_count": 25,
     "metadata": {},
     "output_type": "execute_result"
    }
   ],
   "source": [
    "lsvc.fit(X_train, y_train)"
   ]
  },
  {
   "cell_type": "code",
   "execution_count": 26,
   "id": "469c6276",
   "metadata": {},
   "outputs": [
    {
     "name": "stdout",
     "output_type": "stream",
     "text": [
      "Accuracy Score -  0.8907131862493587\n",
      "              precision    recall  f1-score   support\n",
      "\n",
      " briankempga       0.90      0.89      0.89       979\n",
      " gavinnewsom       0.89      0.90      0.89       970\n",
      "\n",
      "    accuracy                           0.89      1949\n",
      "   macro avg       0.89      0.89      0.89      1949\n",
      "weighted avg       0.89      0.89      0.89      1949\n",
      "\n"
     ]
    }
   ],
   "source": [
    "y_pred = lsvc.predict(X_test)\n",
    "print('Accuracy Score - ', accuracy_score(y_test, y_pred))\n",
    "print(classification_report(y_test, y_pred))"
   ]
  },
  {
   "cell_type": "markdown",
   "id": "cf3d2fe7",
   "metadata": {},
   "source": [
    "### Support Vector Machines "
   ]
  },
  {
   "cell_type": "code",
   "execution_count": 27,
   "id": "0e47aa9d",
   "metadata": {},
   "outputs": [
    {
     "name": "stdout",
     "output_type": "stream",
     "text": [
      "Accuracy Score - 0.8953309389430477\n",
      "              precision    recall  f1-score   support\n",
      "\n",
      " briankempga       0.91      0.88      0.89       979\n",
      " gavinnewsom       0.89      0.91      0.90       970\n",
      "\n",
      "    accuracy                           0.90      1949\n",
      "   macro avg       0.90      0.90      0.90      1949\n",
      "weighted avg       0.90      0.90      0.90      1949\n",
      "\n"
     ]
    }
   ],
   "source": [
    "from sklearn import svm\n",
    "svm = svm.SVC(kernel = 'linear')\n",
    "svm.fit(X_train, y_train)\n",
    "y_pred = svm.predict(X_test)\n",
    "print('Accuracy Score -', accuracy_score(y_test, y_pred))\n",
    "print(classification_report(y_test, y_pred))"
   ]
  },
  {
   "cell_type": "markdown",
   "id": "6a111dad",
   "metadata": {},
   "source": [
    "### K Nearest Neighbors"
   ]
  },
  {
   "cell_type": "code",
   "execution_count": 28,
   "id": "e2324247",
   "metadata": {},
   "outputs": [
    {
     "name": "stdout",
     "output_type": "stream",
     "text": [
      "     K  Test Score  Train Score\n",
      "0    1    0.583376     0.996041\n",
      "1    2    0.585428     0.991203\n",
      "2    3    0.539764     0.585661\n",
      "3    4    0.565418     0.745547\n",
      "4    5    0.542329     0.621729\n",
      "5    6    0.552591     0.652078\n",
      "6    7    0.524885     0.574225\n",
      "7    8    0.537199     0.593798\n",
      "8    9    0.520780     0.545854\n",
      "9   10    0.523858     0.560589\n",
      "10  11    0.515136     0.528700\n",
      "11  12    0.516162     0.535518\n",
      "12  13    0.511544     0.519243\n",
      "13  14    0.512057     0.521883\n",
      "14  15    0.508466     0.513086\n",
      "15  16    0.508466     0.515505\n"
     ]
    }
   ],
   "source": [
    "from sklearn.neighbors import KNeighborsClassifier\n",
    "knn_r_acc = []\n",
    "for i in range(1,17,1):\n",
    "    knn = KNeighborsClassifier(n_neighbors=i)\n",
    "    knn.fit(X_train,y_train)\n",
    "    test_score = knn.score(X_test, y_test)\n",
    "    train_score = knn.score(X_train, y_train)\n",
    "    knn_r_acc.append((i, test_score ,train_score))\n",
    "df = pd.DataFrame(knn_r_acc, columns=['K','Test Score','Train Score'])\n",
    "print(df)"
   ]
  },
  {
   "cell_type": "code",
   "execution_count": 29,
   "id": "3a56405c",
   "metadata": {},
   "outputs": [
    {
     "name": "stdout",
     "output_type": "stream",
     "text": [
      "Accuracy Score - 0.5833760903027193\n",
      "              precision    recall  f1-score   support\n",
      "\n",
      " briankempga       0.90      0.19      0.32       979\n",
      " gavinnewsom       0.55      0.98      0.70       970\n",
      "\n",
      "    accuracy                           0.58      1949\n",
      "   macro avg       0.72      0.59      0.51      1949\n",
      "weighted avg       0.73      0.58      0.51      1949\n",
      "\n"
     ]
    }
   ],
   "source": [
    "knn = KNeighborsClassifier(n_neighbors=1)\n",
    "knn.fit(X_train,y_train)\n",
    "y_pred = knn.predict(X_test)\n",
    "print('Accuracy Score -', accuracy_score(y_test, y_pred))\n",
    "print(classification_report(y_test, y_pred))"
   ]
  },
  {
   "cell_type": "markdown",
   "id": "8e423bde",
   "metadata": {},
   "source": [
    "### Topic Modeling"
   ]
  },
  {
   "cell_type": "markdown",
   "id": "6dc9d8ce",
   "metadata": {},
   "source": [
    "### LDA "
   ]
  },
  {
   "cell_type": "code",
   "execution_count": 30,
   "id": "c61dd8a5",
   "metadata": {},
   "outputs": [],
   "source": [
    "def display_topics(model, features, no_top_words=5):\n",
    "    for topic, words in enumerate(model.components_):\n",
    "        total = words.sum()\n",
    "        largest = words.argsort()[::-1] # invert sort order\n",
    "        print(\"\\nTopic %02d\" % topic)\n",
    "        for i in range(0, no_top_words):\n",
    "            print(\"  %s (%2.2f)\" % (features[largest[i]], abs(words[largest[i]]*100.0/total)))\n"
   ]
  },
  {
   "cell_type": "code",
   "execution_count": 31,
   "id": "bf1cc900",
   "metadata": {},
   "outputs": [],
   "source": [
    "\n",
    "\n",
    "tweet_data = {}\n",
    "tweets = api.user_timeline(screen_name=\"briankempga\", count=200, tweet_mode='extended')\n",
    "all_tweets = []\n",
    "all_tweets.extend(tweets)\n",
    "oldest_id = tweets[-1].id\n",
    "while True:\n",
    "    tweets = api.user_timeline(screen_name=\"briankempga\", count=200,\n",
    "     max_id = oldest_id - 1,\n",
    "     tweet_mode='extended')\n",
    "    if len(tweets) == 0:\n",
    "        break\n",
    "    oldest_id = tweets[-1].id\n",
    "    all_tweets.extend(tweets)\n",
    "tweet_data[\"briankempga\"] = all_tweets\n",
    "\n",
    "res = []\n",
    "for key, val in tweet_data.items():\n",
    "    for item in val:\n",
    "        res.append([key, item.full_text])\n",
    "df = pd.DataFrame(res, columns=['id', 'text'])\n",
    "\n",
    "\n",
    "\n"
   ]
  },
  {
   "cell_type": "code",
   "execution_count": 32,
   "id": "1105a87b",
   "metadata": {},
   "outputs": [],
   "source": [
    "def clean_text(txt):\n",
    "    if type(txt) != str:\n",
    "        return \"\"\n",
    "    txt = txt.lower()\n",
    "    txt = re.sub('@[A-Za-z0-9_]+', '', txt)\n",
    "    txt = re.sub('#[A-Za-z0-9_]+', '', txt)\n",
    "    txt = re.sub(r'http\\S+', '', txt)\n",
    "    txt = txt.replace('\\n', ' ')\n",
    "    txt = re.sub('\\s+', ' ', txt)\n",
    "    txt = re.sub('[^a-z\\s]','', txt)\n",
    "    return txt\n",
    "\n",
    "df['clean_text'] = df['text'].apply(clean_text)\n",
    "\n",
    "# remove the word which can leak some information about the tweet owner\n",
    "mystopword = ENGLISH_STOP_WORDS.union(['ca', 'georgians','california', 'georgia', 'rt', 'ga'])\n",
    "vec = TfidfVectorizer(stop_words=mystopword)\n",
    "vec.fit(df['clean_text'])\n",
    "tfidf_vals = vec.transform(df['clean_text'])"
   ]
  },
  {
   "cell_type": "code",
   "execution_count": 33,
   "id": "e8bf848f",
   "metadata": {},
   "outputs": [],
   "source": [
    "lda_text_model = LatentDirichletAllocation(n_components=2, random_state=123)\n",
    "lda_top = lda_text_model.fit_transform(tfidf_vals)"
   ]
  },
  {
   "cell_type": "code",
   "execution_count": 34,
   "id": "165f3d48",
   "metadata": {},
   "outputs": [
    {
     "name": "stdout",
     "output_type": "stream",
     "text": [
      "\n",
      "Topic 00\n",
      "  state (0.60)\n",
      "  amp (0.58)\n",
      "  choppin (0.42)\n",
      "  proud (0.37)\n",
      "  work (0.35)\n",
      "\n",
      "Topic 01\n",
      "  great (0.71)\n",
      "  vote (0.66)\n",
      "  kemp (0.51)\n",
      "  choppin (0.45)\n",
      "  lets (0.43)\n"
     ]
    }
   ],
   "source": [
    "display_topics(lda_text_model, vec.get_feature_names())"
   ]
  },
  {
   "cell_type": "code",
   "execution_count": 35,
   "id": "fff8eac2",
   "metadata": {},
   "outputs": [
    {
     "data": {
      "text/html": [
       "<div>\n",
       "<style scoped>\n",
       "    .dataframe tbody tr th:only-of-type {\n",
       "        vertical-align: middle;\n",
       "    }\n",
       "\n",
       "    .dataframe tbody tr th {\n",
       "        vertical-align: top;\n",
       "    }\n",
       "\n",
       "    .dataframe thead th {\n",
       "        text-align: right;\n",
       "    }\n",
       "</style>\n",
       "<table border=\"1\" class=\"dataframe\">\n",
       "  <thead>\n",
       "    <tr style=\"text-align: right;\">\n",
       "      <th>id</th>\n",
       "      <th>briankempga</th>\n",
       "    </tr>\n",
       "    <tr>\n",
       "      <th>topic</th>\n",
       "      <th></th>\n",
       "    </tr>\n",
       "  </thead>\n",
       "  <tbody>\n",
       "    <tr>\n",
       "      <th>0</th>\n",
       "      <td>1741</td>\n",
       "    </tr>\n",
       "    <tr>\n",
       "      <th>1</th>\n",
       "      <td>1506</td>\n",
       "    </tr>\n",
       "  </tbody>\n",
       "</table>\n",
       "</div>"
      ],
      "text/plain": [
       "id     briankempga\n",
       "topic             \n",
       "0             1741\n",
       "1             1506"
      ]
     },
     "execution_count": 35,
     "metadata": {},
     "output_type": "execute_result"
    }
   ],
   "source": [
    "df['topic'] = lda_top.argmax(1)\n",
    "pd.crosstab(df['topic'], df['id'])"
   ]
  },
  {
   "cell_type": "code",
   "execution_count": 36,
   "id": "39293893",
   "metadata": {},
   "outputs": [
    {
     "data": {
      "text/html": [
       "\n",
       "<link rel=\"stylesheet\" type=\"text/css\" href=\"https://cdn.jsdelivr.net/gh/bmabey/pyLDAvis@3.3.1/pyLDAvis/js/ldavis.v1.0.0.css\">\n",
       "\n",
       "\n",
       "<div id=\"ldavis_el404361401782164036806394329038\"></div>\n",
       "<script type=\"text/javascript\">\n",
       "\n",
       "var ldavis_el404361401782164036806394329038_data = {\"mdsDat\": {\"x\": [0.07273239182071294, -0.07273239182071294], \"y\": [0.0, 0.0], \"topics\": [1, 2], \"cluster\": [1, 1], \"Freq\": [54.867181549150956, 45.132818450849044]}, \"tinfo\": {\"Term\": [\"vote\", \"big\", \"lets\", \"congratulations\", \"jobs\", \"election\", \"safe\", \"win\", \"stacey\", \"great\", \"early\", \"icymi\", \"abrams\", \"voting\", \"families\", \"law\", \"moving\", \"work\", \"covid\", \"tour\", \"crowd\", \"enforcement\", \"right\", \"republican\", \"kemp\", \"service\", \"bus\", \"gtgt\", \"amp\", \"victory\", \"safe\", \"enforcement\", \"families\", \"covid\", \"praying\", \"service\", \"trafficking\", \"law\", \"marty\", \"happy\", \"health\", \"communities\", \"human\", \"men\", \"women\", \"safety\", \"life\", \"students\", \"healthcare\", \"stronger\", \"girls\", \"safer\", \"raise\", \"testing\", \"loved\", \"ones\", \"gangs\", \"parents\", \"gang\", \"tax\", \"grateful\", \"work\", \"efforts\", \"continue\", \"protect\", \"public\", \"amp\", \"proud\", \"family\", \"good\", \"state\", \"local\", \"forward\", \"dawgs\", \"honored\", \"join\", \"ensure\", \"choppin\", \"support\", \"strong\", \"fight\", \"appreciate\", \"great\", \"today\", \"vote\", \"big\", \"election\", \"congratulations\", \"early\", \"voting\", \"win\", \"jobs\", \"tour\", \"crowd\", \"republican\", \"bus\", \"victory\", \"left\", \"direction\", \"ballot\", \"moving\", \"fired\", \"elections\", \"november\", \"integrity\", \"ready\", \"rally\", \"road\", \"awesome\", \"event\", \"polls\", \"south\", \"investment\", \"pence\", \"gtgt\", \"lets\", \"stacey\", \"abrams\", \"right\", \"icymi\", \"great\", \"friends\", \"trail\", \"kemp\", \"county\", \"campaign\", \"gt\", \"thanks\", \"day\", \"governor\", \"hardworking\", \"today\", \"choppin\", \"time\", \"state\", \"working\", \"brian\", \"support\"], \"Freq\": [31.0, 18.0, 22.0, 16.0, 17.0, 15.0, 19.0, 14.0, 17.0, 46.0, 13.0, 23.0, 20.0, 12.0, 17.0, 17.0, 11.0, 21.0, 14.0, 10.0, 10.0, 13.0, 13.0, 9.0, 33.0, 13.0, 9.0, 10.0, 40.0, 8.0, 19.353816647425038, 13.41131967618018, 17.1270255462508, 14.191362159447324, 11.15939475147688, 12.700399263075168, 10.502434879156391, 16.46632867118956, 12.201895458137995, 10.778286235287563, 8.867228757973225, 9.130485315755648, 8.638842758179026, 9.072287761166564, 10.275380948427227, 8.510308141462108, 8.327832182472818, 10.499280234304045, 8.190582521603343, 9.59771911951376, 9.360523871620972, 8.810467627490825, 7.989438940734775, 7.163413252856306, 7.060099686537618, 7.178452379968017, 7.0308907647139876, 6.543742097121836, 6.328737569534499, 6.136852804567259, 10.956029329833848, 19.97675487322223, 10.380064056014985, 14.215152830111982, 13.024526960125645, 11.015088278632899, 33.258872518397894, 21.159058793337255, 17.993242815277508, 11.782217228107609, 34.462774993223086, 12.297626967385623, 13.338680766044249, 13.392068040034292, 15.81153556409901, 16.22392942153265, 13.426241680995783, 24.103537356578958, 18.585010299251184, 15.08277606653249, 15.34536095632037, 13.76690492767916, 13.110328584027613, 12.07007702331157, 31.211180329806556, 18.249095538238393, 15.440444460768886, 16.265729009104636, 12.841799090954387, 11.73331695813471, 13.824828227660007, 16.67764073083943, 9.906882091418051, 9.665810299886184, 9.43560140057433, 8.811176079118066, 8.333568020475791, 7.806535825317187, 8.496497669032419, 6.86007086499006, 10.7383812630843, 6.425955526151077, 6.713378355715722, 6.616065097977787, 7.360424383914734, 6.718180521861998, 7.52581789764173, 6.404978426790394, 5.928540751378885, 7.619331490729066, 5.359400037301286, 6.392075832901816, 6.402434765112918, 5.340093713781969, 9.607490690119265, 20.653788541656763, 15.822013781236157, 17.56386980548707, 12.08295827700308, 19.917366471578685, 33.57740857902139, 11.458730409741445, 9.331866328318569, 24.114498656518418, 14.61808826229622, 13.04688450280414, 18.57909347059441, 19.859948192712288, 17.968503507257665, 18.874364888369513, 18.41997987662627, 19.04925415867239, 21.297443258412816, 12.834955851201554, 16.5942762854458, 12.204551486807695, 10.367586698981347, 11.53051380872571], \"Total\": [31.0, 18.0, 22.0, 16.0, 17.0, 15.0, 19.0, 14.0, 17.0, 46.0, 13.0, 23.0, 20.0, 12.0, 17.0, 17.0, 11.0, 21.0, 14.0, 10.0, 10.0, 13.0, 13.0, 9.0, 33.0, 13.0, 9.0, 10.0, 40.0, 8.0, 19.70084206971726, 13.761429635328568, 17.586758510857507, 14.57430590240033, 11.492831918645527, 13.081721615440973, 10.836249484132615, 17.051777431334752, 12.63744529761625, 11.17677663529138, 9.195770545724407, 9.469441843421961, 8.97136085014662, 9.427251971724116, 10.677614208096132, 8.850927984159508, 8.663688952069942, 10.934852756352813, 8.531437171449006, 10.012148933733304, 9.765705910893375, 9.19508222848847, 8.342973430564495, 7.491857877064523, 7.383859597712754, 7.511276333101679, 7.374401659509833, 6.879027455909178, 6.656793030447534, 6.486369632131498, 11.611301345493901, 21.584660319735303, 11.081235937677667, 15.431912083879517, 14.080858130875036, 11.825378071345032, 40.05015989771266, 25.092600961844568, 21.221239950235507, 13.299626466821827, 51.05705127866889, 14.207345081556637, 15.989278525537706, 16.08181585172291, 21.389715991044667, 22.416310279916104, 16.847977579249104, 45.400980614991774, 30.115524107976896, 22.218997602777613, 23.019106548812964, 19.23951378983451, 46.687737163049, 31.11933118198396, 31.572730758231867, 18.650908795587636, 15.804014612621014, 16.710416836375288, 13.213800850779212, 12.076601209683455, 14.230915143070186, 17.26277941696302, 10.286487219575235, 10.03701836655779, 9.82259310091832, 9.183737443376925, 8.689288150648322, 8.169169422493777, 8.914347083610153, 7.209130382804204, 11.290729357427109, 6.76274934769031, 7.0678323274106925, 6.978365318747899, 7.7656128673387785, 7.0890402379408, 7.950676801387845, 6.771670249002234, 6.284052357440439, 8.088573235822677, 5.705697313396753, 6.809523243695221, 6.827847534577787, 5.695021745234416, 10.301482339044167, 22.698902427627264, 17.292605785352393, 20.23942349905229, 13.55550720795782, 23.90631303668463, 46.687737163049, 13.283931972140923, 10.529216093862395, 33.997979898263004, 18.329368269904876, 16.149537949166163, 26.389578026379624, 30.071991431781264, 26.531037797445293, 28.878714312110375, 28.70177592024203, 31.11933118198396, 45.400980614991774, 18.92827285777508, 51.05705127866889, 22.701373643874206, 13.686285934696363, 30.115524107976896], \"Category\": [\"Default\", \"Default\", \"Default\", \"Default\", \"Default\", \"Default\", \"Default\", \"Default\", \"Default\", \"Default\", \"Default\", \"Default\", \"Default\", \"Default\", \"Default\", \"Default\", \"Default\", \"Default\", \"Default\", \"Default\", \"Default\", \"Default\", \"Default\", \"Default\", \"Default\", \"Default\", \"Default\", \"Default\", \"Default\", \"Default\", \"Topic1\", \"Topic1\", \"Topic1\", \"Topic1\", \"Topic1\", \"Topic1\", \"Topic1\", \"Topic1\", \"Topic1\", \"Topic1\", \"Topic1\", \"Topic1\", \"Topic1\", \"Topic1\", \"Topic1\", \"Topic1\", \"Topic1\", \"Topic1\", \"Topic1\", \"Topic1\", \"Topic1\", \"Topic1\", \"Topic1\", \"Topic1\", \"Topic1\", \"Topic1\", \"Topic1\", \"Topic1\", \"Topic1\", \"Topic1\", \"Topic1\", \"Topic1\", \"Topic1\", \"Topic1\", \"Topic1\", \"Topic1\", \"Topic1\", \"Topic1\", \"Topic1\", \"Topic1\", \"Topic1\", \"Topic1\", \"Topic1\", \"Topic1\", \"Topic1\", \"Topic1\", \"Topic1\", \"Topic1\", \"Topic1\", \"Topic1\", \"Topic1\", \"Topic1\", \"Topic1\", \"Topic1\", \"Topic2\", \"Topic2\", \"Topic2\", \"Topic2\", \"Topic2\", \"Topic2\", \"Topic2\", \"Topic2\", \"Topic2\", \"Topic2\", \"Topic2\", \"Topic2\", \"Topic2\", \"Topic2\", \"Topic2\", \"Topic2\", \"Topic2\", \"Topic2\", \"Topic2\", \"Topic2\", \"Topic2\", \"Topic2\", \"Topic2\", \"Topic2\", \"Topic2\", \"Topic2\", \"Topic2\", \"Topic2\", \"Topic2\", \"Topic2\", \"Topic2\", \"Topic2\", \"Topic2\", \"Topic2\", \"Topic2\", \"Topic2\", \"Topic2\", \"Topic2\", \"Topic2\", \"Topic2\", \"Topic2\", \"Topic2\", \"Topic2\", \"Topic2\", \"Topic2\", \"Topic2\", \"Topic2\", \"Topic2\", \"Topic2\", \"Topic2\", \"Topic2\", \"Topic2\", \"Topic2\", \"Topic2\"], \"logprob\": [30.0, 29.0, 28.0, 27.0, 26.0, 25.0, 24.0, 23.0, 22.0, 21.0, 20.0, 19.0, 18.0, 17.0, 16.0, 15.0, 14.0, 13.0, 12.0, 11.0, 10.0, 9.0, 8.0, 7.0, 6.0, 5.0, 4.0, 3.0, 2.0, 1.0, -5.6987, -6.0655, -5.8209, -6.0089, -6.2493, -6.1199, -6.31, -5.8603, -6.16, -6.284, -6.4792, -6.45, -6.5053, -6.4563, -6.3318, -6.5203, -6.542, -6.3103, -6.5586, -6.4, -6.4251, -6.4856, -6.5835, -6.6926, -6.7071, -6.6905, -6.7113, -6.7831, -6.8165, -6.8473, -6.2677, -5.667, -6.3217, -6.0073, -6.0947, -6.2623, -5.1572, -5.6095, -5.7716, -6.195, -5.1217, -6.1522, -6.0709, -6.0669, -5.9008, -5.8751, -6.0644, -5.4792, -5.7392, -5.948, -5.9308, -6.0393, -6.0882, -6.1708, -5.0255, -5.5621, -5.7293, -5.6772, -5.9136, -6.0038, -5.8398, -5.6522, -6.173, -6.1977, -6.2218, -6.2902, -6.346, -6.4113, -6.3266, -6.5405, -6.0924, -6.6059, -6.5622, -6.5768, -6.4701, -6.5614, -6.4479, -6.6092, -6.6865, -6.4356, -6.7874, -6.6112, -6.6096, -6.791, -6.2037, -5.4384, -5.7049, -5.6004, -5.9745, -5.4747, -4.9524, -6.0275, -6.2328, -5.2835, -5.784, -5.8977, -5.5442, -5.4776, -5.5776, -5.5285, -5.5528, -5.5192, -5.4077, -5.9141, -5.6572, -5.9645, -6.1276, -6.0213], \"loglift\": [30.0, 29.0, 28.0, 27.0, 26.0, 25.0, 24.0, 23.0, 22.0, 21.0, 20.0, 19.0, 18.0, 17.0, 16.0, 15.0, 14.0, 13.0, 12.0, 11.0, 10.0, 9.0, 8.0, 7.0, 6.0, 5.0, 4.0, 3.0, 2.0, 1.0, 0.5825, 0.5745, 0.5738, 0.5736, 0.5708, 0.5707, 0.569, 0.5653, 0.5652, 0.564, 0.5639, 0.5638, 0.5625, 0.5619, 0.5619, 0.561, 0.5607, 0.5596, 0.5595, 0.558, 0.5579, 0.5575, 0.557, 0.5554, 0.5554, 0.5549, 0.5526, 0.5503, 0.5497, 0.5449, 0.5422, 0.5228, 0.5349, 0.5181, 0.5223, 0.5293, 0.4144, 0.4297, 0.4352, 0.4791, 0.2072, 0.4559, 0.419, 0.4172, 0.2981, 0.277, 0.3732, -0.0329, 0.1176, 0.2129, 0.1947, 0.2656, -0.6698, -0.3468, 0.784, 0.7738, 0.7723, 0.7686, 0.767, 0.7667, 0.7666, 0.7611, 0.758, 0.7579, 0.7554, 0.7541, 0.7538, 0.7502, 0.7476, 0.7459, 0.7454, 0.7445, 0.7441, 0.7422, 0.742, 0.7418, 0.7406, 0.7399, 0.7373, 0.7358, 0.7329, 0.7323, 0.7312, 0.7312, 0.7258, 0.7011, 0.7067, 0.6538, 0.6806, 0.613, 0.4659, 0.6478, 0.6748, 0.4521, 0.5693, 0.5822, 0.4446, 0.3807, 0.4059, 0.3703, 0.352, 0.3048, 0.0386, 0.4071, -0.3283, 0.1749, 0.5179, -0.1645]}, \"token.table\": {\"Topic\": [1, 2, 1, 2, 1, 2, 2, 2, 2, 1, 2, 2, 1, 2, 1, 2, 1, 2, 1, 2, 1, 2, 1, 2, 1, 2, 1, 2, 2, 2, 1, 2, 2, 2, 1, 1, 2, 2, 1, 1, 2, 1, 2, 2, 1, 2, 1, 2, 1, 1, 1, 1, 2, 1, 2, 1, 2, 1, 2, 1, 2, 1, 2, 1, 1, 2, 1, 1, 1, 2, 1, 1, 2, 2, 2, 1, 2, 1, 2, 1, 2, 1, 2, 2, 1, 2, 1, 1, 2, 1, 1, 1, 1, 2, 2, 1, 1, 2, 2, 1, 1, 2, 1, 2, 1, 2, 1, 2, 2, 2, 1, 2, 2, 1, 1, 1, 1, 2, 1, 2, 1, 2, 1, 2, 1, 1, 1, 2, 1, 1, 1, 2, 1, 2, 1, 2, 2, 1, 1, 2, 2, 2, 2, 2, 1, 1, 2, 1, 2], \"Freq\": [0.14822556581912893, 0.8893533949147736, 0.8239667478052863, 0.17478082529203043, 0.7276691164304324, 0.25988182729658305, 0.9547979008952534, 0.9709909001919235, 0.9651004247180907, 0.21919752475685483, 0.7306584158561827, 0.9799931733120886, 0.1857638286273631, 0.8049765907185734, 0.5286229432690933, 0.46254507536045664, 0.9504256057342954, 0.9574865879569892, 0.9072109744990499, 0.06480078389278927, 0.2182290159212759, 0.8183588097047846, 0.9605946309727351, 0.996311816397474, 0.8083664257731975, 0.18654609825535326, 0.33922532803698396, 0.6784506560739679, 0.8974297191892759, 0.9838198824703338, 0.9024264131042169, 0.09024264131042169, 0.9491259257645249, 0.990402668842663, 0.9446692926893429, 0.7716059650988327, 0.17806291502280755, 0.9890495847363533, 0.9666363468574802, 0.8482067985758882, 0.14136779976264804, 0.6516325891359807, 0.347537380872523, 0.8872131276089934, 0.8130448149512625, 0.18762572652721443, 0.1505578321384363, 0.8280680767613996, 0.9013349179637364, 0.9492295542341371, 0.9215923643533795, 0.9022809798407522, 0.15038016330679205, 0.34627580341436703, 0.6579240264872973, 0.9473528997909322, 0.08612299089008475, 0.2784457073727884, 0.7282426192826773, 0.3031499780710028, 0.7199811979186316, 0.09707340818416488, 0.9707340818416488, 0.9841835762617643, 0.3484104965416953, 0.6271388937750516, 0.9787108057175882, 0.937708364866415, 0.7480230222177234, 0.2805086333316463, 1.0031922860234646, 0.16731982024421477, 0.8365991012210737, 0.9014098590262137, 0.8787542442350423, 0.05792809928494854, 0.9847776878441252, 0.7137659945015662, 0.26766224793808735, 0.29413512302567457, 0.7059242952616189, 0.9383186042880209, 0.05864491276800131, 0.9792917230939084, 0.08810998709637001, 0.9251548645118851, 0.9233941851165638, 0.844633528017693, 0.1407722546696155, 0.9480136922116369, 0.9495590063811008, 0.954679054616806, 0.08856823756405019, 0.9742506132045522, 1.0031002505979412, 0.9319321630002454, 1.0175857045005547, 0.8779597732324711, 0.8763170784156735, 0.9571183219128111, 0.9232391860759507, 0.07101839892891929, 0.8369000898684152, 0.15940954092731718, 0.9302028175027175, 0.08456389250024704, 0.9588907439992543, 1.006203647795562, 0.9874397330312426, 0.9162549957565262, 0.07377075491597582, 0.8852490589917098, 0.8860443257531722, 0.9644257810281853, 0.9787840691751445, 1.0168425295186319, 0.993752992316813, 0.881118954334323, 0.057828184624843786, 0.9252509539975006, 0.665921731641499, 0.3329608658207495, 0.6750979620306922, 0.315045715614323, 0.9987865808016128, 0.9145070558165777, 0.6309038465303464, 0.398465587282324, 0.9250166642181211, 0.9343476764861904, 0.3325353434834916, 0.6650706869669832, 0.3169861320725524, 0.6868032861571968, 0.3856124005308703, 0.6105529675072113, 0.9721491687628747, 1.0151113645092025, 0.09497383196294279, 0.8547644876664852, 0.9206738067954516, 0.9818599549523431, 0.9936570556273703, 0.9837736968600623, 0.9365388002516196, 0.9265839584102041, 0.09265839584102041, 0.44050197828880827, 0.52860237394657], \"Term\": [\"abrams\", \"abrams\", \"amp\", \"amp\", \"appreciate\", \"appreciate\", \"awesome\", \"ballot\", \"big\", \"brian\", \"brian\", \"bus\", \"campaign\", \"campaign\", \"choppin\", \"choppin\", \"communities\", \"congratulations\", \"continue\", \"continue\", \"county\", \"county\", \"covid\", \"crowd\", \"dawgs\", \"dawgs\", \"day\", \"day\", \"direction\", \"early\", \"efforts\", \"efforts\", \"election\", \"elections\", \"enforcement\", \"ensure\", \"ensure\", \"event\", \"families\", \"family\", \"family\", \"fight\", \"fight\", \"fired\", \"forward\", \"forward\", \"friends\", \"friends\", \"gang\", \"gangs\", \"girls\", \"good\", \"good\", \"governor\", \"governor\", \"grateful\", \"grateful\", \"great\", \"great\", \"gt\", \"gt\", \"gtgt\", \"gtgt\", \"happy\", \"hardworking\", \"hardworking\", \"health\", \"healthcare\", \"honored\", \"honored\", \"human\", \"icymi\", \"icymi\", \"integrity\", \"investment\", \"jobs\", \"jobs\", \"join\", \"join\", \"kemp\", \"kemp\", \"law\", \"law\", \"left\", \"lets\", \"lets\", \"life\", \"local\", \"local\", \"loved\", \"marty\", \"men\", \"moving\", \"moving\", \"november\", \"ones\", \"parents\", \"pence\", \"polls\", \"praying\", \"protect\", \"protect\", \"proud\", \"proud\", \"public\", \"public\", \"raise\", \"rally\", \"ready\", \"republican\", \"right\", \"right\", \"road\", \"safe\", \"safer\", \"safety\", \"service\", \"south\", \"stacey\", \"stacey\", \"state\", \"state\", \"strong\", \"strong\", \"stronger\", \"students\", \"support\", \"support\", \"tax\", \"testing\", \"thanks\", \"thanks\", \"time\", \"time\", \"today\", \"today\", \"tour\", \"trafficking\", \"trail\", \"trail\", \"victory\", \"vote\", \"voting\", \"win\", \"women\", \"work\", \"work\", \"working\", \"working\"]}, \"R\": 30, \"lambda.step\": 0.01, \"plot.opts\": {\"xlab\": \"PC1\", \"ylab\": \"PC2\"}, \"topic.order\": [1, 2]};\n",
       "\n",
       "function LDAvis_load_lib(url, callback){\n",
       "  var s = document.createElement('script');\n",
       "  s.src = url;\n",
       "  s.async = true;\n",
       "  s.onreadystatechange = s.onload = callback;\n",
       "  s.onerror = function(){console.warn(\"failed to load library \" + url);};\n",
       "  document.getElementsByTagName(\"head\")[0].appendChild(s);\n",
       "}\n",
       "\n",
       "if(typeof(LDAvis) !== \"undefined\"){\n",
       "   // already loaded: just create the visualization\n",
       "   !function(LDAvis){\n",
       "       new LDAvis(\"#\" + \"ldavis_el404361401782164036806394329038\", ldavis_el404361401782164036806394329038_data);\n",
       "   }(LDAvis);\n",
       "}else if(typeof define === \"function\" && define.amd){\n",
       "   // require.js is available: use it to load d3/LDAvis\n",
       "   require.config({paths: {d3: \"https://d3js.org/d3.v5\"}});\n",
       "   require([\"d3\"], function(d3){\n",
       "      window.d3 = d3;\n",
       "      LDAvis_load_lib(\"https://cdn.jsdelivr.net/gh/bmabey/pyLDAvis@3.3.1/pyLDAvis/js/ldavis.v3.0.0.js\", function(){\n",
       "        new LDAvis(\"#\" + \"ldavis_el404361401782164036806394329038\", ldavis_el404361401782164036806394329038_data);\n",
       "      });\n",
       "    });\n",
       "}else{\n",
       "    // require.js not available: dynamically load d3 & LDAvis\n",
       "    LDAvis_load_lib(\"https://d3js.org/d3.v5.js\", function(){\n",
       "         LDAvis_load_lib(\"https://cdn.jsdelivr.net/gh/bmabey/pyLDAvis@3.3.1/pyLDAvis/js/ldavis.v3.0.0.js\", function(){\n",
       "                 new LDAvis(\"#\" + \"ldavis_el404361401782164036806394329038\", ldavis_el404361401782164036806394329038_data);\n",
       "            })\n",
       "         });\n",
       "}\n",
       "</script>"
      ],
      "text/plain": [
       "<IPython.core.display.HTML object>"
      ]
     },
     "execution_count": 36,
     "metadata": {},
     "output_type": "execute_result"
    }
   ],
   "source": [
    "lda_display = pyLDAvis.sklearn.prepare(lda_text_model, tfidf_vals, vec, sort_topics=False)\n",
    "pyLDAvis.display(lda_display)"
   ]
  },
  {
   "cell_type": "markdown",
   "id": "2784193d",
   "metadata": {},
   "source": [
    "### LSA"
   ]
  },
  {
   "cell_type": "code",
   "execution_count": 37,
   "id": "25ff1ca2",
   "metadata": {},
   "outputs": [],
   "source": [
    "svd_text_model = TruncatedSVD(n_components = 5, random_state=42)\n",
    "W_svd_text_matrix = svd_text_model.fit_transform(tfidf_vals)\n",
    "H_svd_text_matrix = svd_text_model.components_"
   ]
  },
  {
   "cell_type": "code",
   "execution_count": 38,
   "id": "f255bfb4",
   "metadata": {},
   "outputs": [
    {
     "name": "stdout",
     "output_type": "stream",
     "text": [
      "\n",
      "Topic 00\n",
      "  choppin (1.70)\n",
      "  great (0.98)\n",
      "  state (0.98)\n",
      "  support (0.84)\n",
      "  vote (0.81)\n",
      "\n",
      "Topic 01\n",
      "  choppin (6.83)\n",
      "  lets (1.61)\n",
      "  thanks (0.85)\n",
      "  dawgs (0.61)\n",
      "  wood (0.59)\n",
      "\n",
      "Topic 02\n",
      "  vote (13.45)\n",
      "  kemp (12.63)\n",
      "  icymi (6.69)\n",
      "  governor (6.65)\n",
      "  brian (5.89)\n",
      "\n",
      "Topic 03\n",
      "  support (6.62)\n",
      "  great (5.59)\n",
      "  thanks (5.23)\n",
      "  strong (5.09)\n",
      "  appreciate (3.24)\n",
      "\n",
      "Topic 04\n",
      "  vote (82.73)\n",
      "  lets (44.08)\n",
      "  amp (28.84)\n",
      "  election (25.10)\n",
      "  early (23.30)\n"
     ]
    }
   ],
   "source": [
    "# call display_topics on your model\n",
    "display_topics(svd_text_model, vec.get_feature_names())"
   ]
  },
  {
   "cell_type": "markdown",
   "id": "7535c429",
   "metadata": {},
   "source": [
    "### Non-Negative Matrix Factorization Model"
   ]
  },
  {
   "cell_type": "code",
   "execution_count": 39,
   "id": "5137c7d3",
   "metadata": {},
   "outputs": [],
   "source": [
    "\n",
    "nmf_text_model = NMF(n_components=5, random_state=314)\n",
    "W_text_matrix = nmf_text_model.fit_transform(tfidf_vals)\n",
    "H_text_matrix = nmf_text_model.components_\n",
    "\n",
    "warnings.filterwarnings(\"ignore\", category= FutureWarning)"
   ]
  },
  {
   "cell_type": "code",
   "execution_count": 40,
   "id": "7550f32a",
   "metadata": {},
   "outputs": [
    {
     "name": "stdout",
     "output_type": "stream",
     "text": [
      "\n",
      "Topic 00\n",
      "  state (1.70)\n",
      "  amp (1.49)\n",
      "  fight (0.77)\n",
      "  safe (0.72)\n",
      "  hardworking (0.64)\n",
      "\n",
      "Topic 01\n",
      "  choppin (29.23)\n",
      "  lets (6.53)\n",
      "  dawgs (2.90)\n",
      "  wood (2.65)\n",
      "  congratulations (2.07)\n",
      "\n",
      "Topic 02\n",
      "  vote (7.02)\n",
      "  lets (2.34)\n",
      "  early (2.25)\n",
      "  governor (2.15)\n",
      "  election (2.14)\n",
      "\n",
      "Topic 03\n",
      "  support (4.21)\n",
      "  great (3.93)\n",
      "  thanks (3.41)\n",
      "  strong (3.14)\n",
      "  appreciate (2.10)\n",
      "\n",
      "Topic 04\n",
      "  kemp (5.45)\n",
      "  icymi (5.06)\n",
      "  gt (3.36)\n",
      "  brian (3.16)\n",
      "  gtgt (2.59)\n"
     ]
    }
   ],
   "source": [
    "display_topics(nmf_text_model, vec.get_feature_names())"
   ]
  }
 ],
 "metadata": {
  "kernelspec": {
   "display_name": "Python 3",
   "language": "python",
   "name": "python3"
  },
  "language_info": {
   "codemirror_mode": {
    "name": "ipython",
    "version": 3
   },
   "file_extension": ".py",
   "mimetype": "text/x-python",
   "name": "python",
   "nbconvert_exporter": "python",
   "pygments_lexer": "ipython3",
   "version": "3.8.8"
  },
  "vscode": {
   "interpreter": {
    "hash": "d2e20998373b3ba55d021e7b750bba8ad6332631440dca8b57ebc8d3d38236c0"
   }
  }
 },
 "nbformat": 4,
 "nbformat_minor": 5
}
