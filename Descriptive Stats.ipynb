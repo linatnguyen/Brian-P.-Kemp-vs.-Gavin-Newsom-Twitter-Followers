{
 "cells": [
  {
   "cell_type": "markdown",
   "id": "485405e4",
   "metadata": {},
   "source": [
    "### Descriptive Statistics"
   ]
  },
  {
   "cell_type": "code",
   "execution_count": 17,
   "id": "cd0dd1a4",
   "metadata": {},
   "outputs": [],
   "source": [
    "import string\n",
    "from string import punctuation\n",
    "\n",
    "def descriptive_stats(tokens, top_num_tokens = 5, verbose=True) :\n",
    "    \"\"\"\n",
    "        Given a list of tokens, print number of tokens, number of unique tokens, \n",
    "        number of characters, lexical diversity (https://en.wikipedia.org/wiki/Lexical_diversity), \n",
    "        and num_tokens most common tokens. Return a list with the number of tokens, number\n",
    "        of unique tokens, lexical diversity, and number of characters. \n",
    "    \"\"\"\n",
    "\n",
    "    # Fill in the correct values here. \n",
    "    \n",
    "    num_tokens = len(tokens)\n",
    "    num_unique_tokens = len(set(tokens))\n",
    "    lexical_diversity = num_unique_tokens/num_tokens\n",
    "    num_characters = len(\"\".join(tokens))\n",
    "\n",
    "    if verbose :        \n",
    "        print(f\"There are {num_tokens} tokens in the data.\")\n",
    "        print(f\"There are {num_unique_tokens} unique tokens in the data.\")\n",
    "        print(f\"There are {num_characters} characters in the data.\")\n",
    "        print(f\"The lexical diversity is {lexical_diversity:.3f} in the data.\") "
   ]
  },
  {
   "cell_type": "code",
   "execution_count": 18,
   "id": "e2b37a96",
   "metadata": {},
   "outputs": [
    {
     "name": "stdout",
     "output_type": "stream",
     "text": [
      "There are 3249 tokens in the data.\n",
      "There are 3001 unique tokens in the data.\n",
      "There are 392152 characters in the data.\n",
      "The lexical diversity is 0.924 in the data.\n"
     ]
    }
   ],
   "source": [
    "descriptive_stats(df.loc[df['id'] == 'gavinnewsom']['clean_text'], verbose = True)"
   ]
  },
  {
   "cell_type": "code",
   "execution_count": 19,
   "id": "28cbd30b",
   "metadata": {},
   "outputs": [
    {
     "name": "stdout",
     "output_type": "stream",
     "text": [
      "There are 3247 tokens in the data.\n",
      "There are 3212 unique tokens in the data.\n",
      "There are 446019 characters in the data.\n",
      "The lexical diversity is 0.989 in the data.\n"
     ]
    }
   ],
   "source": [
    "descriptive_stats(df.loc[df['id'] == 'briankempga']['clean_text'], verbose = True)"
   ]
  }
 ],
 "metadata": {
  "interpreter": {
   "hash": "eb6ab0aca1cb3b88d28e39c0cd72da93ec1cda217f19bc0f068025ef404b92a3"
  },
  "kernelspec": {
   "display_name": "Python 3",
   "language": "python",
   "name": "python3"
  },
  "language_info": {
   "codemirror_mode": {
    "name": "ipython",
    "version": 3
   },
   "file_extension": ".py",
   "mimetype": "text/x-python",
   "name": "python",
   "nbconvert_exporter": "python",
   "pygments_lexer": "ipython3",
   "version": "3.8.8"
  }
 },
 "nbformat": 4,
 "nbformat_minor": 5
}
