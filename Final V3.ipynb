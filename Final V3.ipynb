{
 "cells": [
  {
   "cell_type": "markdown",
   "id": "4cf09151",
   "metadata": {},
   "source": [
    "# Project\n"
   ]
  },
  {
   "cell_type": "markdown",
   "id": "7c049ecf",
   "metadata": {},
   "source": [
    "Your final project encompasses all major aspects of the course and of text-mining projects you will encounter after school. You will begin by acquiring data yourself. By module six you are asked to have that data cleaned, tokenized, normalized, and you will calculate descriptive statistics on your corpus. You are expected to acquire your data via an API or via web scraping. \n",
    "\n",
    "You should find a data set that is grouped or that can be classified via topic modeling. The steps of your final project will vary depending on whether or not your data are grouped.\n",
    "\n",
    "If your data is grouped, then you will begin by building a classification model and reporting the accuracy of your model against a hold-out test set. Then you will ignore the groups and build a topic model such as NMF, LSA, or LDA to put the data into groups. You will then compare how well those topics agree with the a priori groups. \n",
    "\n",
    "If your data is not grouped, then your steps are reversed. You will begin by building a topic model. You will adjust that model as necessary until you feel satisfied with the topics discovered. Subset your data to the topics you feel most comfortable with, and use that resulting data set to build a classification model. Once again, report the accuracy of your classification model against a hold-out test set. \n",
    "\n",
    "Final projects and datasets from prior courses cannot be used. It is required that you and your team use GitHub as a code hosting platform to manage version control and collaboration during this project. It is also necessary to create and add a README file to your GitHub repository.\n",
    "Project Timeline:\n",
    "\n",
    "    Module 1 (by the end of Week 1): You signed up for your Final Team Project group in Blackboard. Each team has two or three members.\n",
    "    Module 4 (by the end of Week 4): Each team selected and introduced a dataset. The team representative submitted the \"Team Project Status Update Form\" in Assignment 4.2.\n",
    "    Module 6 (by the end of Week 6): Each team submitted descriptive statistics on your clean, tokenized, and normalized data in Assignment 6.2.\n",
    "    Module 7 (by the end of Week 7): Each team will submit the following deliverables for the course project in the final week. The final project has two options for submission detailed below. \n",
    "\n",
    "Final Team Project Options:\n",
    "Option 1: Presentations\n",
    "If your team chooses this option, you must submit the deliverables outlined below.\n",
    "\n",
    "    Videos: Two videos, one under 20 minutes and one with six or fewer slides. These videos should be done by all team members.\n",
    "        Video 1: Technical (peer data scientists) - This video should be a detailed technical presentation of what you have done. The recording of this presentation should be shorter than 20 minutes, but the format is up to you. Someone viewing your presentation should know all of the work you have done and the results of your analysis. Your imagined audience for this presentation should be other data scientists. Do not assume they are fully conversant with the topics of this course, but you can assume familiarity with concepts in statistics, machine learning, and analytics.\n",
    "        Video 2: Non-Technical (Business Executive) - This presentation should be short (5 or 6 slides) and does not need extensive introduction or conclusions. This presentation is the sort that you would share with colleagues for incorporation into a larger presentation for something like a Quarterly Business Review for a non-technical audience. Include one or two slides on both your classification and your topic models, as well as a discussion of potential applications or next steps.\n",
    "    Technical Notebook: One PDF document of your technical notebook containing your project code with thorough code notation and explanations of approach, code output, interpretation of your code output, and actionable insight recommendations and recommended next steps.\n",
    "    GitHub Repository: Containing your project technical notebook(s) that demonstrates team collaboration. In your final technical notebook submitted on Blackboard, include a link to your GitHub repository.\n",
    "    Presentation (PowerPoint/Others): Submit your slide presentations for both presentations.\n",
    "\n",
    "Option 2: Application\n",
    "If your team chooses this option, you must submit the deliverables outlined below.\n",
    "\n",
    "    Application: Your second option is to produce an application, using Flask, that implements your classification model. Your application should allow users to drop in text and have it classified. If possible, include additional information such as the specific words that are most responsible for determining the classification. Include a tab that provides an overview of your topic model, but that portion of the application need not be interactive.\n",
    "    GitHub Repository: Containing your project technical notebook(s) that demonstrates team collaboration. In your final technical notebook submitted on Blackboard, include a link to your GitHub repository.\n",
    "    Video: In addition to submitting the link to the application, record an introductory screen share. This screen share should provide an overview of your application and illustrate its use. This screen share should be shorter than 10 minutes.\n",
    "    Technical Notebook: One PDF document of your technical notebook containing your project code with thorough code notation and explanations of approach, code output, interpretation of your code output, and actionable insight recommendations and recommended next steps.\n",
    "\n",
    "It is critical to note that no extensions will be given for any of the final projects due dates for any reason, and final projects submitted after the final due date will not be graded.\n",
    "Project Datasets:\n",
    "You will be responsible for gathering the data set for this project either from an API or via Web Scraping. Both of those approaches can be rate limited, so make sure to give yourself enough time to assemble the data. Include your data pulling notebook or notebooks in your repository.\n",
    "Requirements:\n",
    "Divide the work equally between the team members and ensure that everyone writes to code. You are expected to write high-quality, efficient, and readable code in Python. Regardless of the option you choose you should submit your repository that includes all code used in the project and a README\n",
    "\n",
    "    Include a link to your repository in your submission.\n",
    "\n",
    "Option 1 (Presentations) Requirements:\n",
    "\n",
    "    Give a 15-20 minute technical presentation covering your project.\n",
    "        The clearly defined problem statement and data description\n",
    "        Tokenization and normalization choices\n",
    "        Descriptive statistics\n",
    "        Overview of your classification model\n",
    "        Overview of your topic model\n",
    "        Estimates of performance for both models\n",
    "        Results\n",
    "        Discussion and conclusion\n",
    "        Your audience for this video is your data science peers/technical audience with knowledge of data science methods and techniques, but with only a rudimentary understanding of text mining and NLP.\n",
    "    Give a short presentation with six or fewer slides covering your project for a non-technical audience. Order the topic model and classification slides in a sensible way given your data.\n",
    "        One or two slides giving an overview of your project and data\n",
    "        One or two slides on your topic model\n",
    "        One or two slides on your classification model\n",
    "        One slide on next steps\n",
    "\n",
    "Option 2 (Application) Requirements:\n",
    "\n",
    "    URL for your application: Include a web location where your instructor can interact with your application.\n",
    "    Video screen share: record an introductory screen share. This screen share should provide an overview of your application and illustrate its use. This screen share should be shorter than 10 minutes.\n"
   ]
  },
  {
   "cell_type": "code",
   "execution_count": 1,
   "id": "2cdbea7b",
   "metadata": {},
   "outputs": [
    {
     "name": "stdout",
     "output_type": "stream",
     "text": [
      "Name: tweepy\n",
      "Version: 4.9.0\n",
      "Summary: Twitter library for Python\n",
      "Home-page: https://www.tweepy.org/\n",
      "Author: Joshua Roesslein\n",
      "Author-email: tweepy@googlegroups.com\n",
      "License: MIT\n",
      "Location: /Users/linanguyen/opt/anaconda3/lib/python3.8/site-packages\n",
      "Requires: oauthlib, requests-oauthlib, requests\n",
      "Required-by: \n",
      "Note: you may need to restart the kernel to use updated packages.\n"
     ]
    }
   ],
   "source": [
    "pip show tweepy"
   ]
  },
  {
   "cell_type": "markdown",
   "id": "9ac13ea4",
   "metadata": {},
   "source": [
    "# Twitter API Pull"
   ]
  },
  {
   "cell_type": "code",
   "execution_count": 62,
   "id": "9b9df443",
   "metadata": {},
   "outputs": [],
   "source": [
    "# importing and cleaning twitter data\n",
    "import tweepy\n",
    "import os\n",
    "import re\n",
    "from pprint import pprint\n",
    "import pandas as pd\n",
    "import numpy as np\n",
    "from collections import Counter, defaultdict\n",
    "from nltk.corpus import stopwords\n",
    "from string import punctuation\n",
    "\n",
    "sw = stopwords.words(\"english\")\n",
    "\n",
    "# modeling\n",
    "from sklearn.model_selection import train_test_split\n",
    "from sklearn.feature_extraction.text import TfidfVectorizer, ENGLISH_STOP_WORDS\n",
    "from sklearn.ensemble import RandomForestClassifier\n",
    "from xgboost import XGBClassifier\n",
    "from sklearn.metrics import classification_report\n",
    "from sklearn.linear_model import LogisticRegression\n",
    "from sklearn.naive_bayes import GaussianNB\n",
    "from sklearn.svm import LinearSVC\n",
    "from sklearn import svm\n",
    "from sklearn.neighbors import KNeighborsClassifier\n",
    "\n",
    "# topic modeling\n",
    "from sklearn.decomposition import LatentDirichletAllocation\n",
    "import pyLDAvis\n",
    "import pyLDAvis.sklearn\n",
    "import pyLDAvis.gensim_models\n",
    "from sklearn.decomposition import TruncatedSVD\n",
    "from sklearn.decomposition import NMF, TruncatedSVD, LatentDirichletAllocation\n",
    "\n",
    "# remove warnings\n",
    "import warnings\n",
    "warnings.filterwarnings(\"ignore\", category=DeprecationWarning)"
   ]
  },
  {
   "cell_type": "code",
   "execution_count": 3,
   "id": "7a9a04ed",
   "metadata": {},
   "outputs": [],
   "source": [
    "# Use this cell for any import statements you add\n",
    "# import api_keys"
   ]
  },
  {
   "cell_type": "code",
   "execution_count": 5,
   "id": "5abfe93e",
   "metadata": {},
   "outputs": [],
   "source": [
    "# MAKE API KEYS SECRET\n",
    "# Importing secret API keys\n",
    "\n",
    "api_key='LUKbDXuSS6Z8tZoYvHtyS0OPk'\n",
    "api_key_secret= 'dS9w5HSHhAAgEHrJPmnIiizEytWiGYITnxJkx1BeGfYJdeDyx1'\n",
    "access_token= '1524139829268664321-7ftbINxgsCgcYUANOQJHDi4LzFLaQb'\n",
    "access_token_secret= 'aZJ2tRZuc0RU4qUeCGEMkEty0GGoRCSeUSqMJY8H9Tp1e'"
   ]
  },
  {
   "cell_type": "code",
   "execution_count": 6,
   "id": "f9e58973",
   "metadata": {},
   "outputs": [],
   "source": [
    "auth = tweepy.AppAuthHandler(api_key, api_key_secret)\n",
    "api = tweepy.API(auth,wait_on_rate_limit = True)"
   ]
  },
  {
   "cell_type": "code",
   "execution_count": 7,
   "id": "3140a2a1",
   "metadata": {},
   "outputs": [],
   "source": [
    "tweet_data = {}"
   ]
  },
  {
   "cell_type": "code",
   "execution_count": 8,
   "id": "97ad2bfc",
   "metadata": {},
   "outputs": [],
   "source": [
    "# bring in tweets from briankempga \n",
    "tweets = api.user_timeline(screen_name=\"briankempga\", count=200, tweet_mode='extended')\n",
    "all_tweets = []\n",
    "all_tweets.extend(tweets)\n",
    "oldest_id = tweets[-1].id\n",
    "while True:\n",
    "    tweets = api.user_timeline(screen_name=\"briankempga\", count=200,\n",
    "     max_id = oldest_id - 1,\n",
    "     tweet_mode='extended')\n",
    "    if len(tweets) == 0:\n",
    "        break\n",
    "    oldest_id = tweets[-1].id\n",
    "    all_tweets.extend(tweets)\n",
    "tweet_data[\"briankempga\"] = all_tweets"
   ]
  },
  {
   "cell_type": "code",
   "execution_count": 9,
   "id": "40f33db8",
   "metadata": {},
   "outputs": [],
   "source": [
    "# bring in tweets from gavinnewsom\n",
    "tweets = api.user_timeline(screen_name=\"gavinnewsom\", count=200, tweet_mode='extended')\n",
    "all_tweets = []\n",
    "all_tweets.extend(tweets)\n",
    "oldest_id = tweets[-1].id\n",
    "while True:\n",
    "    tweets = api.user_timeline(screen_name=\"gavinnewsom\", count=200,\n",
    "     max_id = oldest_id - 1,\n",
    "     tweet_mode='extended')\n",
    "    if len(tweets) == 0:\n",
    "        break\n",
    "    oldest_id = tweets[-1].id\n",
    "    all_tweets.extend(tweets)\n",
    "tweet_data[\"gavinnewsom\"] = all_tweets"
   ]
  },
  {
   "cell_type": "code",
   "execution_count": 10,
   "id": "d56763c0",
   "metadata": {},
   "outputs": [],
   "source": [
    "res = []\n",
    "for key, val in tweet_data.items():\n",
    "    for item in val:\n",
    "        res.append([key, item.full_text])\n",
    "df = pd.DataFrame(res, columns=['id', 'text'])"
   ]
  },
  {
   "cell_type": "markdown",
   "id": "e0fb03a0",
   "metadata": {},
   "source": [
    "First we extract the last 3000 tweets of two governers. Then we use a classification model to predict the owner of tweet from the tweet by using NLP and modeling"
   ]
  },
  {
   "cell_type": "code",
   "execution_count": 11,
   "id": "28973e57",
   "metadata": {},
   "outputs": [
    {
     "data": {
      "text/html": [
       "<div>\n",
       "<style scoped>\n",
       "    .dataframe tbody tr th:only-of-type {\n",
       "        vertical-align: middle;\n",
       "    }\n",
       "\n",
       "    .dataframe tbody tr th {\n",
       "        vertical-align: top;\n",
       "    }\n",
       "\n",
       "    .dataframe thead th {\n",
       "        text-align: right;\n",
       "    }\n",
       "</style>\n",
       "<table border=\"1\" class=\"dataframe\">\n",
       "  <thead>\n",
       "    <tr style=\"text-align: right;\">\n",
       "      <th></th>\n",
       "      <th>id</th>\n",
       "      <th>text</th>\n",
       "    </tr>\n",
       "  </thead>\n",
       "  <tbody>\n",
       "    <tr>\n",
       "      <th>0</th>\n",
       "      <td>briankempga</td>\n",
       "      <td>For years, Stacey Abrams has been aligned with...</td>\n",
       "    </tr>\n",
       "    <tr>\n",
       "      <th>1</th>\n",
       "      <td>briankempga</td>\n",
       "      <td>We had a great crowd at our lunch in Winder to...</td>\n",
       "    </tr>\n",
       "    <tr>\n",
       "      <th>2</th>\n",
       "      <td>briankempga</td>\n",
       "      <td>RT @GovKemp: https://t.co/YMNGbJKgQq</td>\n",
       "    </tr>\n",
       "    <tr>\n",
       "      <th>3</th>\n",
       "      <td>briankempga</td>\n",
       "      <td>RT @TeamKempGA: ICYMI: Watch the latest ad fro...</td>\n",
       "    </tr>\n",
       "    <tr>\n",
       "      <th>4</th>\n",
       "      <td>briankempga</td>\n",
       "      <td>Stacey Abrams was paid $52,500 to serve on the...</td>\n",
       "    </tr>\n",
       "  </tbody>\n",
       "</table>\n",
       "</div>"
      ],
      "text/plain": [
       "            id                                               text\n",
       "0  briankempga  For years, Stacey Abrams has been aligned with...\n",
       "1  briankempga  We had a great crowd at our lunch in Winder to...\n",
       "2  briankempga               RT @GovKemp: https://t.co/YMNGbJKgQq\n",
       "3  briankempga  RT @TeamKempGA: ICYMI: Watch the latest ad fro...\n",
       "4  briankempga  Stacey Abrams was paid $52,500 to serve on the..."
      ]
     },
     "execution_count": 11,
     "metadata": {},
     "output_type": "execute_result"
    }
   ],
   "source": [
    "df.head()"
   ]
  },
  {
   "cell_type": "code",
   "execution_count": 12,
   "id": "ae879126",
   "metadata": {},
   "outputs": [],
   "source": [
    "# defining function to clean tweets \n",
    "def clean_text(txt):\n",
    "    if type(txt) != str:\n",
    "        return \"\"\n",
    "    txt = txt.lower()\n",
    "    txt = re.sub('@[A-Za-z0-9_]+', '', txt)\n",
    "    txt = re.sub('#[A-Za-z0-9_]+', '', txt)\n",
    "    txt = re.sub(r'http\\S+', '', txt)\n",
    "    txt = txt.replace('\\n', ' ')\n",
    "    txt = re.sub('\\s+', ' ', txt)\n",
    "    txt = re.sub('[^a-z\\s]','', txt)\n",
    "    return txt"
   ]
  },
  {
   "cell_type": "code",
   "execution_count": 13,
   "id": "130d7847",
   "metadata": {},
   "outputs": [],
   "source": [
    "df['clean_text'] = df['text'].apply(clean_text)"
   ]
  },
  {
   "cell_type": "code",
   "execution_count": 14,
   "id": "e938969e",
   "metadata": {},
   "outputs": [
    {
     "data": {
      "text/html": [
       "<div>\n",
       "<style scoped>\n",
       "    .dataframe tbody tr th:only-of-type {\n",
       "        vertical-align: middle;\n",
       "    }\n",
       "\n",
       "    .dataframe tbody tr th {\n",
       "        vertical-align: top;\n",
       "    }\n",
       "\n",
       "    .dataframe thead th {\n",
       "        text-align: right;\n",
       "    }\n",
       "</style>\n",
       "<table border=\"1\" class=\"dataframe\">\n",
       "  <thead>\n",
       "    <tr style=\"text-align: right;\">\n",
       "      <th></th>\n",
       "      <th>id</th>\n",
       "      <th>text</th>\n",
       "      <th>clean_text</th>\n",
       "    </tr>\n",
       "  </thead>\n",
       "  <tbody>\n",
       "    <tr>\n",
       "      <th>0</th>\n",
       "      <td>briankempga</td>\n",
       "      <td>For years, Stacey Abrams has been aligned with...</td>\n",
       "      <td>for years stacey abrams has been aligned with ...</td>\n",
       "    </tr>\n",
       "    <tr>\n",
       "      <th>1</th>\n",
       "      <td>briankempga</td>\n",
       "      <td>We had a great crowd at our lunch in Winder to...</td>\n",
       "      <td>we had a great crowd at our lunch in winder to...</td>\n",
       "    </tr>\n",
       "    <tr>\n",
       "      <th>2</th>\n",
       "      <td>briankempga</td>\n",
       "      <td>RT @GovKemp: https://t.co/YMNGbJKgQq</td>\n",
       "      <td>rt</td>\n",
       "    </tr>\n",
       "    <tr>\n",
       "      <th>3</th>\n",
       "      <td>briankempga</td>\n",
       "      <td>RT @TeamKempGA: ICYMI: Watch the latest ad fro...</td>\n",
       "      <td>rt  icymi watch the latest ad from our campaig...</td>\n",
       "    </tr>\n",
       "    <tr>\n",
       "      <th>4</th>\n",
       "      <td>briankempga</td>\n",
       "      <td>Stacey Abrams was paid $52,500 to serve on the...</td>\n",
       "      <td>stacey abrams was paid  to serve on the board ...</td>\n",
       "    </tr>\n",
       "  </tbody>\n",
       "</table>\n",
       "</div>"
      ],
      "text/plain": [
       "            id                                               text  \\\n",
       "0  briankempga  For years, Stacey Abrams has been aligned with...   \n",
       "1  briankempga  We had a great crowd at our lunch in Winder to...   \n",
       "2  briankempga               RT @GovKemp: https://t.co/YMNGbJKgQq   \n",
       "3  briankempga  RT @TeamKempGA: ICYMI: Watch the latest ad fro...   \n",
       "4  briankempga  Stacey Abrams was paid $52,500 to serve on the...   \n",
       "\n",
       "                                          clean_text  \n",
       "0  for years stacey abrams has been aligned with ...  \n",
       "1  we had a great crowd at our lunch in winder to...  \n",
       "2                                               rt    \n",
       "3  rt  icymi watch the latest ad from our campaig...  \n",
       "4  stacey abrams was paid  to serve on the board ...  "
      ]
     },
     "execution_count": 14,
     "metadata": {},
     "output_type": "execute_result"
    }
   ],
   "source": [
    "df.head()"
   ]
  },
  {
   "cell_type": "code",
   "execution_count": 17,
   "id": "1a2e336b",
   "metadata": {},
   "outputs": [
    {
     "data": {
      "text/plain": [
       "gavinnewsom    3249\n",
       "briankempga    3247\n",
       "Name: id, dtype: int64"
      ]
     },
     "execution_count": 17,
     "metadata": {},
     "output_type": "execute_result"
    }
   ],
   "source": [
    "# view number of tweets per govenor \n",
    "df['id'].value_counts()"
   ]
  },
  {
   "cell_type": "code",
   "execution_count": 18,
   "id": "06f942f6",
   "metadata": {},
   "outputs": [
    {
     "data": {
      "text/plain": [
       "((4547, 2), (1949, 2))"
      ]
     },
     "execution_count": 18,
     "metadata": {},
     "output_type": "execute_result"
    }
   ],
   "source": [
    "# split the data into train and test sets\n",
    "train, test = train_test_split(df[['id', 'clean_text']], test_size=0.3,shuffle=True, random_state=123)\n",
    "train.shape, test.shape"
   ]
  },
  {
   "cell_type": "code",
   "execution_count": 19,
   "id": "f5e05e0b",
   "metadata": {},
   "outputs": [],
   "source": [
    "# remove the word which can leak some information about the tweet owner\n",
    "mystopword = ENGLISH_STOP_WORDS.union(['ca', 'georgians','california', 'georgia', 'rt', 'ga'])"
   ]
  },
  {
   "cell_type": "code",
   "execution_count": 20,
   "id": "600c0395",
   "metadata": {},
   "outputs": [
    {
     "data": {
      "text/plain": [
       "(4547, 7715)"
      ]
     },
     "execution_count": 20,
     "metadata": {},
     "output_type": "execute_result"
    }
   ],
   "source": [
    "# use TfidfVectorizer to weigh word counts\n",
    "vec = TfidfVectorizer(stop_words=mystopword)\n",
    "vec.fit(train['clean_text'])\n",
    "X_train = vec.transform(train['clean_text'])\n",
    "y_train = train['id']\n",
    "X_test = vec.transform(test['clean_text'])\n",
    "y_test = test['id']\n",
    "X_train.shape"
   ]
  },
  {
   "cell_type": "markdown",
   "id": "93bfda6b",
   "metadata": {},
   "source": [
    "### Descriptive Statistics"
   ]
  },
  {
   "cell_type": "code",
   "execution_count": 44,
   "id": "76177a54",
   "metadata": {},
   "outputs": [],
   "source": [
    "# defining a function for descriptive statistics to view number of tokens, number of unique tokens, number \n",
    "# of characters, and lexical diversity\n",
    "import string\n",
    "from string import punctuation\n",
    "\n",
    "def descriptive_stats(tokens, top_num_tokens = 5, verbose=True) :\n",
    "    \"\"\"\n",
    "        Given a list of tokens, print number of tokens, number of unique tokens, \n",
    "        number of characters, lexical diversity (https://en.wikipedia.org/wiki/Lexical_diversity), \n",
    "        and num_tokens most common tokens. Return a list with the number of tokens, number\n",
    "        of unique tokens, lexical diversity, and number of characters. \n",
    "    \"\"\"\n",
    "\n",
    "    # Fill in the correct values here. \n",
    "    \n",
    "    num_tokens = len(tokens)\n",
    "    num_unique_tokens = len(set(tokens))\n",
    "    lexical_diversity = num_unique_tokens/num_tokens\n",
    "    num_characters = len(\"\".join(tokens))\n",
    "\n",
    "    if verbose :        \n",
    "        print(f\"There are {num_tokens} tokens in the data.\")\n",
    "        print(f\"There are {num_unique_tokens} unique tokens in the data.\")\n",
    "        print(f\"There are {num_characters} characters in the data.\")\n",
    "        print(f\"The lexical diversity is {lexical_diversity:.3f} in the data.\") "
   ]
  },
  {
   "cell_type": "code",
   "execution_count": 45,
   "id": "db6319ff",
   "metadata": {},
   "outputs": [
    {
     "name": "stdout",
     "output_type": "stream",
     "text": [
      "There are 3249 tokens in the data.\n",
      "There are 3001 unique tokens in the data.\n",
      "There are 392152 characters in the data.\n",
      "The lexical diversity is 0.924 in the data.\n"
     ]
    }
   ],
   "source": [
    "# descriptive statistics of gavinnewsom\n",
    "descriptive_stats(df.loc[df['id'] == 'gavinnewsom']['clean_text'], verbose = True)"
   ]
  },
  {
   "cell_type": "code",
   "execution_count": 46,
   "id": "42620278",
   "metadata": {},
   "outputs": [
    {
     "name": "stdout",
     "output_type": "stream",
     "text": [
      "There are 3247 tokens in the data.\n",
      "There are 3212 unique tokens in the data.\n",
      "There are 446019 characters in the data.\n",
      "The lexical diversity is 0.989 in the data.\n"
     ]
    }
   ],
   "source": [
    "# descriptive statistics of briankempga\n",
    "descriptive_stats(df.loc[df['id'] == 'briankempga']['clean_text'], verbose = True)"
   ]
  },
  {
   "cell_type": "markdown",
   "id": "a1ec3086",
   "metadata": {},
   "source": [
    "### Random Forest Model"
   ]
  },
  {
   "cell_type": "code",
   "execution_count": 21,
   "id": "5321096d",
   "metadata": {},
   "outputs": [
    {
     "name": "stdout",
     "output_type": "stream",
     "text": [
      "              precision    recall  f1-score   support\n",
      "\n",
      " briankempga       0.92      0.74      0.82       979\n",
      " gavinnewsom       0.78      0.94      0.85       970\n",
      "\n",
      "    accuracy                           0.84      1949\n",
      "   macro avg       0.85      0.84      0.84      1949\n",
      "weighted avg       0.85      0.84      0.84      1949\n",
      "\n"
     ]
    }
   ],
   "source": [
    "rf = RandomForestClassifier(max_depth=8)\n",
    "rf.fit(X_train, y_train)\n",
    "y_pred = rf.predict(X_test)\n",
    "print(classification_report(y_test, y_pred))"
   ]
  },
  {
   "cell_type": "code",
   "execution_count": 22,
   "id": "903232ab",
   "metadata": {},
   "outputs": [
    {
     "data": {
      "image/png": "[encoded data removed]",
      "text/plain": [
       "<Figure size 1080x360 with 1 Axes>"
      ]
     },
     "metadata": {
      "needs_background": "light"
     },
     "output_type": "display_data"
    }
   ],
   "source": [
    "# viewing feature importance of tweets from briankempga and gavinnewsom\n",
    "pd.Series(rf.feature_importances_, index=vec.get_feature_names()).\\\n",
    "    sort_values(ascending=False).head(30).plot(kind='bar', figsize=(15,5));"
   ]
  },
  {
   "cell_type": "markdown",
   "id": "b78fba3a",
   "metadata": {},
   "source": [
    "### XGB"
   ]
  },
  {
   "cell_type": "code",
   "execution_count": 23,
   "id": "df52c586",
   "metadata": {},
   "outputs": [
    {
     "name": "stdout",
     "output_type": "stream",
     "text": [
      "              precision    recall  f1-score   support\n",
      "\n",
      " briankempga       0.89      0.84      0.86       979\n",
      " gavinnewsom       0.85      0.89      0.87       970\n",
      "\n",
      "    accuracy                           0.87      1949\n",
      "   macro avg       0.87      0.87      0.87      1949\n",
      "weighted avg       0.87      0.87      0.87      1949\n",
      "\n"
     ]
    }
   ],
   "source": [
    "xgb = XGBClassifier(max_depth=12, n_estimators=200)\n",
    "xgb.fit(X_train, 1*(y_train == 'briankempga'))\n",
    "y_pred = xgb.predict(X_test)\n",
    "y_pred = ['gavinnewsom' if x == 0 else 'briankempga' for x in y_pred]\n",
    "print(classification_report(y_test, y_pred))"
   ]
  },
  {
   "cell_type": "markdown",
   "id": "c0e7d69e",
   "metadata": {},
   "source": [
    "### Logistic Regression "
   ]
  },
  {
   "cell_type": "code",
   "execution_count": 68,
   "id": "ebc93265",
   "metadata": {},
   "outputs": [
    {
     "name": "stdout",
     "output_type": "stream",
     "text": [
      "Accuracy Score -  0.9025141097998974\n",
      "              precision    recall  f1-score   support\n",
      "\n",
      " briankempga       0.93      0.88      0.90       979\n",
      " gavinnewsom       0.88      0.93      0.90       970\n",
      "\n",
      "    accuracy                           0.90      1949\n",
      "   macro avg       0.90      0.90      0.90      1949\n",
      "weighted avg       0.90      0.90      0.90      1949\n",
      "\n"
     ]
    }
   ],
   "source": [
    "lr = LogisticRegression()\n",
    "lr.fit(X_train, y_train)\n",
    "y_pred = lr.predict(X_test)\n",
    "print('Accuracy Score - ', accuracy_score(y_test, y_pred))\n",
    "print(classification_report(y_test, y_pred))"
   ]
  },
  {
   "cell_type": "markdown",
   "id": "7b8b0624",
   "metadata": {},
   "source": [
    "### Naive Bayes Model"
   ]
  },
  {
   "cell_type": "code",
   "execution_count": 69,
   "id": "f5f38596",
   "metadata": {},
   "outputs": [
    {
     "name": "stdout",
     "output_type": "stream",
     "text": [
      "Accuracy Score -  0.7860441251924064\n",
      "              precision    recall  f1-score   support\n",
      "\n",
      " briankempga       0.75      0.87      0.80       979\n",
      " gavinnewsom       0.84      0.70      0.77       970\n",
      "\n",
      "    accuracy                           0.79      1949\n",
      "   macro avg       0.79      0.79      0.78      1949\n",
      "weighted avg       0.79      0.79      0.78      1949\n",
      "\n"
     ]
    }
   ],
   "source": [
    "# Vectorize text reviews to numbers\n",
    "nb = GaussianNB()\n",
    "nb.fit(X_train.todense(), y_train)\n",
    "y_pred = nb.predict(X_test.todense())\n",
    "print('Accuracy Score - ', accuracy_score(y_test, y_pred))\n",
    "print(classification_report(y_test, y_pred))"
   ]
  },
  {
   "cell_type": "markdown",
   "id": "81cc2f38",
   "metadata": {},
   "source": [
    "### Linear SVC Model"
   ]
  },
  {
   "cell_type": "code",
   "execution_count": 70,
   "id": "6c5bfbf2",
   "metadata": {},
   "outputs": [
    {
     "name": "stdout",
     "output_type": "stream",
     "text": [
      "Accuracy Score -  0.9086711133914828\n",
      "              precision    recall  f1-score   support\n",
      "\n",
      " briankempga       0.92      0.90      0.91       979\n",
      " gavinnewsom       0.90      0.92      0.91       970\n",
      "\n",
      "    accuracy                           0.91      1949\n",
      "   macro avg       0.91      0.91      0.91      1949\n",
      "weighted avg       0.91      0.91      0.91      1949\n",
      "\n"
     ]
    }
   ],
   "source": [
    "# HyperTuning Parameters with Validation Set\n",
    "lsvc = LinearSVC(verbose=0)\n",
    "lsvc.fit(X_train, y_train)\n",
    "y_pred = lsvc.predict(X_test)\n",
    "print('Accuracy Score - ', accuracy_score(y_test, y_pred))\n",
    "print(classification_report(y_test, y_pred))"
   ]
  },
  {
   "cell_type": "markdown",
   "id": "8c4f9ea0",
   "metadata": {},
   "source": [
    "### Support Vector Machines"
   ]
  },
  {
   "cell_type": "code",
   "execution_count": 71,
   "id": "7116b02e",
   "metadata": {},
   "outputs": [
    {
     "name": "stdout",
     "output_type": "stream",
     "text": [
      "Accuracy Score - 0.905079527963058\n",
      "              precision    recall  f1-score   support\n",
      "\n",
      " briankempga       0.92      0.89      0.90       979\n",
      " gavinnewsom       0.89      0.92      0.91       970\n",
      "\n",
      "    accuracy                           0.91      1949\n",
      "   macro avg       0.91      0.91      0.91      1949\n",
      "weighted avg       0.91      0.91      0.91      1949\n",
      "\n"
     ]
    }
   ],
   "source": [
    "svm = svm.SVC(kernel = 'linear')\n",
    "svm.fit(X_train, y_train)\n",
    "y_pred = svm.predict(X_test)\n",
    "print('Accuracy Score -', accuracy_score(y_test, y_pred))\n",
    "print(classification_report(y_test, y_pred))"
   ]
  },
  {
   "cell_type": "markdown",
   "id": "26786fbf",
   "metadata": {},
   "source": [
    "### K Nearest Neighbors "
   ]
  },
  {
   "cell_type": "code",
   "execution_count": 72,
   "id": "56a68f81",
   "metadata": {},
   "outputs": [
    {
     "name": "stdout",
     "output_type": "stream",
     "text": [
      "     K  Test Score  Train Score\n",
      "0    1    0.587994     0.996701\n",
      "1    2    0.586455     0.992962\n",
      "2    3    0.539251     0.587420\n",
      "3    4    0.572088     0.762041\n",
      "4    5    0.544382     0.628326\n",
      "5    6    0.550539     0.651858\n",
      "6    7    0.530528     0.579283\n",
      "7    8    0.531555     0.600616\n",
      "8    9    0.517701     0.552672\n",
      "9   10    0.525911     0.566747\n",
      "10  11    0.516162     0.537057\n",
      "11  12    0.516162     0.544975\n",
      "12  13    0.511544     0.525621\n",
      "13  14    0.513084     0.530680\n",
      "14  15    0.508979     0.518144\n",
      "15  16    0.508979     0.522322\n"
     ]
    }
   ],
   "source": [
    "knn_r_acc = []\n",
    "for i in range(1,17,1):\n",
    "    knn = KNeighborsClassifier(n_neighbors=i)\n",
    "    knn.fit(X_train,y_train)\n",
    "    test_score = knn.score(X_test, y_test)\n",
    "    train_score = knn.score(X_train, y_train)\n",
    "    knn_r_acc.append((i, test_score ,train_score))\n",
    "df = pd.DataFrame(knn_r_acc, columns=['K','Test Score','Train Score'])\n",
    "print(df)"
   ]
  },
  {
   "cell_type": "code",
   "execution_count": 74,
   "id": "681609c0",
   "metadata": {},
   "outputs": [
    {
     "name": "stdout",
     "output_type": "stream",
     "text": [
      "Accuracy Score - 0.5879938429964084\n",
      "              precision    recall  f1-score   support\n",
      "\n",
      " briankempga       0.92      0.20      0.32       979\n",
      " gavinnewsom       0.55      0.98      0.70       970\n",
      "\n",
      "    accuracy                           0.59      1949\n",
      "   macro avg       0.74      0.59      0.51      1949\n",
      "weighted avg       0.74      0.59      0.51      1949\n",
      "\n"
     ]
    }
   ],
   "source": [
    "# K = 1 has the best score when trying to classify the test set, however, it is clear that it is overfitting \n",
    "# the training set\n",
    "knn = KNeighborsClassifier(n_neighbors=1)\n",
    "knn.fit(X_train,y_train)\n",
    "y_pred = knn.predict(X_test)\n",
    "print('Accuracy Score -', accuracy_score(y_test, y_pred))\n",
    "print(classification_report(y_test, y_pred))"
   ]
  },
  {
   "cell_type": "markdown",
   "id": "f4369298",
   "metadata": {},
   "source": [
    "### Topic Modeling"
   ]
  },
  {
   "cell_type": "markdown",
   "id": "2e832cc8",
   "metadata": {},
   "source": [
    "### LDA "
   ]
  },
  {
   "cell_type": "code",
   "execution_count": 76,
   "id": "712a5f0f",
   "metadata": {},
   "outputs": [],
   "source": [
    "# defining the function to \n",
    "def display_topics(model, features, no_top_words=5):\n",
    "    for topic, words in enumerate(model.components_):\n",
    "        total = words.sum()\n",
    "        largest = words.argsort()[::-1] # invert sort order\n",
    "        print(\"\\nTopic %02d\" % topic)\n",
    "        for i in range(0, no_top_words):\n",
    "            print(\"  %s (%2.2f)\" % (features[largest[i]], abs(words[largest[i]]*100.0/total)))\n"
   ]
  },
  {
   "cell_type": "code",
   "execution_count": 77,
   "id": "3906f805",
   "metadata": {},
   "outputs": [
    {
     "ename": "KeyError",
     "evalue": "'clean_text'",
     "output_type": "error",
     "traceback": [
      "\u001b[0;31m---------------------------------------------------------------------------\u001b[0m",
      "\u001b[0;31mKeyError\u001b[0m                                  Traceback (most recent call last)",
      "\u001b[0;32m~/opt/anaconda3/lib/python3.8/site-packages/pandas/core/indexes/base.py\u001b[0m in \u001b[0;36mget_loc\u001b[0;34m(self, key, method, tolerance)\u001b[0m\n\u001b[1;32m   3079\u001b[0m             \u001b[0;32mtry\u001b[0m\u001b[0;34m:\u001b[0m\u001b[0;34m\u001b[0m\u001b[0;34m\u001b[0m\u001b[0m\n\u001b[0;32m-> 3080\u001b[0;31m                 \u001b[0;32mreturn\u001b[0m \u001b[0mself\u001b[0m\u001b[0;34m.\u001b[0m\u001b[0m_engine\u001b[0m\u001b[0;34m.\u001b[0m\u001b[0mget_loc\u001b[0m\u001b[0;34m(\u001b[0m\u001b[0mcasted_key\u001b[0m\u001b[0;34m)\u001b[0m\u001b[0;34m\u001b[0m\u001b[0;34m\u001b[0m\u001b[0m\n\u001b[0m\u001b[1;32m   3081\u001b[0m             \u001b[0;32mexcept\u001b[0m \u001b[0mKeyError\u001b[0m \u001b[0;32mas\u001b[0m \u001b[0merr\u001b[0m\u001b[0;34m:\u001b[0m\u001b[0;34m\u001b[0m\u001b[0;34m\u001b[0m\u001b[0m\n",
      "\u001b[0;32mpandas/_libs/index.pyx\u001b[0m in \u001b[0;36mpandas._libs.index.IndexEngine.get_loc\u001b[0;34m()\u001b[0m\n",
      "\u001b[0;32mpandas/_libs/index.pyx\u001b[0m in \u001b[0;36mpandas._libs.index.IndexEngine.get_loc\u001b[0;34m()\u001b[0m\n",
      "\u001b[0;32mpandas/_libs/hashtable_class_helper.pxi\u001b[0m in \u001b[0;36mpandas._libs.hashtable.PyObjectHashTable.get_item\u001b[0;34m()\u001b[0m\n",
      "\u001b[0;32mpandas/_libs/hashtable_class_helper.pxi\u001b[0m in \u001b[0;36mpandas._libs.hashtable.PyObjectHashTable.get_item\u001b[0;34m()\u001b[0m\n",
      "\u001b[0;31mKeyError\u001b[0m: 'clean_text'",
      "\nThe above exception was the direct cause of the following exception:\n",
      "\u001b[0;31mKeyError\u001b[0m                                  Traceback (most recent call last)",
      "\u001b[0;32m<ipython-input-77-6d2c6a675dfe>\u001b[0m in \u001b[0;36m<module>\u001b[0;34m\u001b[0m\n\u001b[1;32m      1\u001b[0m \u001b[0mvec\u001b[0m \u001b[0;34m=\u001b[0m \u001b[0mTfidfVectorizer\u001b[0m\u001b[0;34m(\u001b[0m\u001b[0mstop_words\u001b[0m\u001b[0;34m=\u001b[0m\u001b[0mmystopword\u001b[0m\u001b[0;34m)\u001b[0m\u001b[0;34m\u001b[0m\u001b[0;34m\u001b[0m\u001b[0m\n\u001b[0;32m----> 2\u001b[0;31m \u001b[0mvec\u001b[0m\u001b[0;34m.\u001b[0m\u001b[0mfit\u001b[0m\u001b[0;34m(\u001b[0m\u001b[0mdf\u001b[0m\u001b[0;34m[\u001b[0m\u001b[0;34m'clean_text'\u001b[0m\u001b[0;34m]\u001b[0m\u001b[0;34m)\u001b[0m\u001b[0;34m\u001b[0m\u001b[0;34m\u001b[0m\u001b[0m\n\u001b[0m\u001b[1;32m      3\u001b[0m \u001b[0mtfidf_vals\u001b[0m \u001b[0;34m=\u001b[0m \u001b[0mvec\u001b[0m\u001b[0;34m.\u001b[0m\u001b[0mtransform\u001b[0m\u001b[0;34m(\u001b[0m\u001b[0mdf\u001b[0m\u001b[0;34m[\u001b[0m\u001b[0;34m'clean_text'\u001b[0m\u001b[0;34m]\u001b[0m\u001b[0;34m)\u001b[0m\u001b[0;34m\u001b[0m\u001b[0;34m\u001b[0m\u001b[0m\n",
      "\u001b[0;32m~/opt/anaconda3/lib/python3.8/site-packages/pandas/core/frame.py\u001b[0m in \u001b[0;36m__getitem__\u001b[0;34m(self, key)\u001b[0m\n\u001b[1;32m   3022\u001b[0m             \u001b[0;32mif\u001b[0m \u001b[0mself\u001b[0m\u001b[0;34m.\u001b[0m\u001b[0mcolumns\u001b[0m\u001b[0;34m.\u001b[0m\u001b[0mnlevels\u001b[0m \u001b[0;34m>\u001b[0m \u001b[0;36m1\u001b[0m\u001b[0;34m:\u001b[0m\u001b[0;34m\u001b[0m\u001b[0;34m\u001b[0m\u001b[0m\n\u001b[1;32m   3023\u001b[0m                 \u001b[0;32mreturn\u001b[0m \u001b[0mself\u001b[0m\u001b[0;34m.\u001b[0m\u001b[0m_getitem_multilevel\u001b[0m\u001b[0;34m(\u001b[0m\u001b[0mkey\u001b[0m\u001b[0;34m)\u001b[0m\u001b[0;34m\u001b[0m\u001b[0;34m\u001b[0m\u001b[0m\n\u001b[0;32m-> 3024\u001b[0;31m             \u001b[0mindexer\u001b[0m \u001b[0;34m=\u001b[0m \u001b[0mself\u001b[0m\u001b[0;34m.\u001b[0m\u001b[0mcolumns\u001b[0m\u001b[0;34m.\u001b[0m\u001b[0mget_loc\u001b[0m\u001b[0;34m(\u001b[0m\u001b[0mkey\u001b[0m\u001b[0;34m)\u001b[0m\u001b[0;34m\u001b[0m\u001b[0;34m\u001b[0m\u001b[0m\n\u001b[0m\u001b[1;32m   3025\u001b[0m             \u001b[0;32mif\u001b[0m \u001b[0mis_integer\u001b[0m\u001b[0;34m(\u001b[0m\u001b[0mindexer\u001b[0m\u001b[0;34m)\u001b[0m\u001b[0;34m:\u001b[0m\u001b[0;34m\u001b[0m\u001b[0;34m\u001b[0m\u001b[0m\n\u001b[1;32m   3026\u001b[0m                 \u001b[0mindexer\u001b[0m \u001b[0;34m=\u001b[0m \u001b[0;34m[\u001b[0m\u001b[0mindexer\u001b[0m\u001b[0;34m]\u001b[0m\u001b[0;34m\u001b[0m\u001b[0;34m\u001b[0m\u001b[0m\n",
      "\u001b[0;32m~/opt/anaconda3/lib/python3.8/site-packages/pandas/core/indexes/base.py\u001b[0m in \u001b[0;36mget_loc\u001b[0;34m(self, key, method, tolerance)\u001b[0m\n\u001b[1;32m   3080\u001b[0m                 \u001b[0;32mreturn\u001b[0m \u001b[0mself\u001b[0m\u001b[0;34m.\u001b[0m\u001b[0m_engine\u001b[0m\u001b[0;34m.\u001b[0m\u001b[0mget_loc\u001b[0m\u001b[0;34m(\u001b[0m\u001b[0mcasted_key\u001b[0m\u001b[0;34m)\u001b[0m\u001b[0;34m\u001b[0m\u001b[0;34m\u001b[0m\u001b[0m\n\u001b[1;32m   3081\u001b[0m             \u001b[0;32mexcept\u001b[0m \u001b[0mKeyError\u001b[0m \u001b[0;32mas\u001b[0m \u001b[0merr\u001b[0m\u001b[0;34m:\u001b[0m\u001b[0;34m\u001b[0m\u001b[0;34m\u001b[0m\u001b[0m\n\u001b[0;32m-> 3082\u001b[0;31m                 \u001b[0;32mraise\u001b[0m \u001b[0mKeyError\u001b[0m\u001b[0;34m(\u001b[0m\u001b[0mkey\u001b[0m\u001b[0;34m)\u001b[0m \u001b[0;32mfrom\u001b[0m \u001b[0merr\u001b[0m\u001b[0;34m\u001b[0m\u001b[0;34m\u001b[0m\u001b[0m\n\u001b[0m\u001b[1;32m   3083\u001b[0m \u001b[0;34m\u001b[0m\u001b[0m\n\u001b[1;32m   3084\u001b[0m         \u001b[0;32mif\u001b[0m \u001b[0mtolerance\u001b[0m \u001b[0;32mis\u001b[0m \u001b[0;32mnot\u001b[0m \u001b[0;32mNone\u001b[0m\u001b[0;34m:\u001b[0m\u001b[0;34m\u001b[0m\u001b[0;34m\u001b[0m\u001b[0m\n",
      "\u001b[0;31mKeyError\u001b[0m: 'clean_text'"
     ]
    }
   ],
   "source": [
    "vec = TfidfVectorizer(stop_words=mystopword)\n",
    "vec.fit(df['clean_text'])\n",
    "tfidf_vals = vec.transform(df['clean_text'])"
   ]
  },
  {
   "cell_type": "code",
   "execution_count": 60,
   "id": "54bed6e7",
   "metadata": {},
   "outputs": [],
   "source": [
    "lda_text_model = LatentDirichletAllocation(n_components=2, random_state=123)\n",
    "lda_top = lda_text_model.fit_transform(tfidf_vals)"
   ]
  },
  {
   "cell_type": "code",
   "execution_count": 61,
   "id": "070b1ad3",
   "metadata": {},
   "outputs": [
    {
     "ename": "NotFittedError",
     "evalue": "Vocabulary not fitted or provided",
     "output_type": "error",
     "traceback": [
      "\u001b[0;31m---------------------------------------------------------------------------\u001b[0m",
      "\u001b[0;31mNotFittedError\u001b[0m                            Traceback (most recent call last)",
      "\u001b[0;32m<ipython-input-61-fd6479344d26>\u001b[0m in \u001b[0;36m<module>\u001b[0;34m\u001b[0m\n\u001b[0;32m----> 1\u001b[0;31m \u001b[0mdisplay_topics\u001b[0m\u001b[0;34m(\u001b[0m\u001b[0mlda_text_model\u001b[0m\u001b[0;34m,\u001b[0m \u001b[0mvec\u001b[0m\u001b[0;34m.\u001b[0m\u001b[0mget_feature_names\u001b[0m\u001b[0;34m(\u001b[0m\u001b[0;34m)\u001b[0m\u001b[0;34m)\u001b[0m\u001b[0;34m\u001b[0m\u001b[0;34m\u001b[0m\u001b[0m\n\u001b[0m",
      "\u001b[0;32m~/opt/anaconda3/lib/python3.8/site-packages/sklearn/feature_extraction/text.py\u001b[0m in \u001b[0;36mget_feature_names\u001b[0;34m(self)\u001b[0m\n\u001b[1;32m   1295\u001b[0m         \"\"\"\n\u001b[1;32m   1296\u001b[0m \u001b[0;34m\u001b[0m\u001b[0m\n\u001b[0;32m-> 1297\u001b[0;31m         \u001b[0mself\u001b[0m\u001b[0;34m.\u001b[0m\u001b[0m_check_vocabulary\u001b[0m\u001b[0;34m(\u001b[0m\u001b[0;34m)\u001b[0m\u001b[0;34m\u001b[0m\u001b[0;34m\u001b[0m\u001b[0m\n\u001b[0m\u001b[1;32m   1298\u001b[0m \u001b[0;34m\u001b[0m\u001b[0m\n\u001b[1;32m   1299\u001b[0m         return [t for t, i in sorted(self.vocabulary_.items(),\n",
      "\u001b[0;32m~/opt/anaconda3/lib/python3.8/site-packages/sklearn/feature_extraction/text.py\u001b[0m in \u001b[0;36m_check_vocabulary\u001b[0;34m(self)\u001b[0m\n\u001b[1;32m    470\u001b[0m             \u001b[0mself\u001b[0m\u001b[0;34m.\u001b[0m\u001b[0m_validate_vocabulary\u001b[0m\u001b[0;34m(\u001b[0m\u001b[0;34m)\u001b[0m\u001b[0;34m\u001b[0m\u001b[0;34m\u001b[0m\u001b[0m\n\u001b[1;32m    471\u001b[0m             \u001b[0;32mif\u001b[0m \u001b[0;32mnot\u001b[0m \u001b[0mself\u001b[0m\u001b[0;34m.\u001b[0m\u001b[0mfixed_vocabulary_\u001b[0m\u001b[0;34m:\u001b[0m\u001b[0;34m\u001b[0m\u001b[0;34m\u001b[0m\u001b[0m\n\u001b[0;32m--> 472\u001b[0;31m                 \u001b[0;32mraise\u001b[0m \u001b[0mNotFittedError\u001b[0m\u001b[0;34m(\u001b[0m\u001b[0;34m\"Vocabulary not fitted or provided\"\u001b[0m\u001b[0;34m)\u001b[0m\u001b[0;34m\u001b[0m\u001b[0;34m\u001b[0m\u001b[0m\n\u001b[0m\u001b[1;32m    473\u001b[0m \u001b[0;34m\u001b[0m\u001b[0m\n\u001b[1;32m    474\u001b[0m         \u001b[0;32mif\u001b[0m \u001b[0mlen\u001b[0m\u001b[0;34m(\u001b[0m\u001b[0mself\u001b[0m\u001b[0;34m.\u001b[0m\u001b[0mvocabulary_\u001b[0m\u001b[0;34m)\u001b[0m \u001b[0;34m==\u001b[0m \u001b[0;36m0\u001b[0m\u001b[0;34m:\u001b[0m\u001b[0;34m\u001b[0m\u001b[0;34m\u001b[0m\u001b[0m\n",
      "\u001b[0;31mNotFittedError\u001b[0m: Vocabulary not fitted or provided"
     ]
    }
   ],
   "source": [
    "display_topics(lda_text_model, vec.get_feature_names())"
   ]
  },
  {
   "cell_type": "code",
   "execution_count": null,
   "id": "3fc9ddde",
   "metadata": {},
   "outputs": [],
   "source": [
    "df['topic'] = lda_top.argmax(1)\n",
    "pd.crosstab(df['topic'], df['id'])"
   ]
  },
  {
   "cell_type": "code",
   "execution_count": null,
   "id": "b850e85f",
   "metadata": {},
   "outputs": [],
   "source": [
    "lda_display = pyLDAvis.sklearn.prepare(lda_text_model, tfidf_vals, vec, sort_topics=False)\n",
    "pyLDAvis.display(lda_display)"
   ]
  },
  {
   "cell_type": "markdown",
   "id": "b7b4ee97",
   "metadata": {},
   "source": [
    "### LSA"
   ]
  },
  {
   "cell_type": "code",
   "execution_count": 39,
   "id": "824469f7",
   "metadata": {},
   "outputs": [],
   "source": [
    "from sklearn.decomposition import TruncatedSVD\n",
    "svd_text_model = TruncatedSVD(n_components = 5, random_state=42)\n",
    "W_svd_text_matrix = svd_text_model.fit_transform(tfidf_vals)\n",
    "H_svd_text_matrix = svd_text_model.components_"
   ]
  },
  {
   "cell_type": "code",
   "execution_count": 40,
   "id": "6c0d6b0d",
   "metadata": {},
   "outputs": [
    {
     "name": "stdout",
     "output_type": "stream",
     "text": [
      "\n",
      "Topic 00\n",
      "  tune (37.57)\n",
      "  update (6.17)\n",
      "  pm (1.74)\n",
      "  live (1.44)\n",
      "  tonight (1.18)\n",
      "\n",
      "Topic 01\n",
      "  today (0.96)\n",
      "  governor (0.94)\n",
      "  state (0.89)\n",
      "  vote (0.81)\n",
      "  amp (0.79)\n",
      "\n",
      "Topic 02\n",
      "  update (6.78)\n",
      "  live (5.07)\n",
      "  watch (5.01)\n",
      "  response (4.47)\n",
      "  governor (4.44)\n",
      "\n",
      "Topic 03\n",
      "  choppin (6.68)\n",
      "  lets (2.21)\n",
      "  update (1.56)\n",
      "  thanks (1.06)\n",
      "  watch (1.05)\n",
      "\n",
      "Topic 04\n",
      "  vote (16.45)\n",
      "  election (3.57)\n",
      "  day (3.10)\n",
      "  early (2.63)\n",
      "  kemp (2.36)\n"
     ]
    }
   ],
   "source": [
    "# call display_topics on your model\n",
    "display_topics(svd_text_model, vec.get_feature_names())"
   ]
  },
  {
   "cell_type": "markdown",
   "id": "eb6ef1af",
   "metadata": {},
   "source": [
    "### Non-Negative Matrix Factorization Model"
   ]
  },
  {
   "cell_type": "code",
   "execution_count": 41,
   "id": "5c3606dd",
   "metadata": {},
   "outputs": [
    {
     "name": "stderr",
     "output_type": "stream",
     "text": [
      "/Users/linanguyen/opt/anaconda3/lib/python3.8/site-packages/sklearn/decomposition/_nmf.py:312: FutureWarning: The 'init' value, when 'init=None' and n_components is less than n_samples and n_features, will be changed from 'nndsvd' to 'nndsvda' in 1.1 (renaming of 0.26).\n",
      "  warnings.warn((\"The 'init' value, when 'init=None' and \"\n"
     ]
    }
   ],
   "source": [
    "from sklearn.decomposition import NMF, TruncatedSVD, LatentDirichletAllocation\n",
    "\n",
    "nmf_text_model = NMF(n_components=5, random_state=314)\n",
    "W_text_matrix = nmf_text_model.fit_transform(tfidf_vals)\n",
    "H_text_matrix = nmf_text_model.components_\n",
    "\n",
    "warnings.filterwarnings(\"ignore\", category= FutureWarning)"
   ]
  },
  {
   "cell_type": "code",
   "execution_count": 42,
   "id": "5eb09a8b",
   "metadata": {},
   "outputs": [
    {
     "name": "stdout",
     "output_type": "stream",
     "text": [
      "\n",
      "Topic 00\n",
      "  tune (64.32)\n",
      "  update (6.68)\n",
      "  tonight (1.93)\n",
      "  pm (1.49)\n",
      "  announcement (1.26)\n",
      "\n",
      "Topic 01\n",
      "  state (1.22)\n",
      "  amp (1.08)\n",
      "  great (0.68)\n",
      "  new (0.57)\n",
      "  fight (0.45)\n",
      "\n",
      "Topic 02\n",
      "  update (7.64)\n",
      "  live (6.33)\n",
      "  governor (6.16)\n",
      "  watch (6.05)\n",
      "  response (5.28)\n",
      "\n",
      "Topic 03\n",
      "  choppin (16.42)\n",
      "  lets (5.31)\n",
      "  thanks (3.83)\n",
      "  support (3.15)\n",
      "  strong (2.12)\n",
      "\n",
      "Topic 04\n",
      "  vote (8.95)\n",
      "  election (2.02)\n",
      "  day (1.90)\n",
      "  early (1.50)\n",
      "  kemp (1.45)\n"
     ]
    }
   ],
   "source": [
    "display_topics(nmf_text_model, vec.get_feature_names())"
   ]
  },
  {
   "cell_type": "code",
   "execution_count": null,
   "id": "539f0881",
   "metadata": {},
   "outputs": [],
   "source": []
  },
  {
   "cell_type": "code",
   "execution_count": null,
   "id": "c5e30cf1",
   "metadata": {},
   "outputs": [],
   "source": []
  },
  {
   "cell_type": "code",
   "execution_count": null,
   "id": "0bf4f9da",
   "metadata": {},
   "outputs": [],
   "source": []
  },
  {
   "cell_type": "code",
   "execution_count": null,
   "id": "5ddb83e6",
   "metadata": {},
   "outputs": [],
   "source": []
  },
  {
   "cell_type": "code",
   "execution_count": null,
   "id": "2571518c",
   "metadata": {},
   "outputs": [],
   "source": []
  }
 ],
 "metadata": {
  "interpreter": {
   "hash": "eb6ab0aca1cb3b88d28e39c0cd72da93ec1cda217f19bc0f068025ef404b92a3"
  },
  "kernelspec": {
   "display_name": "Python 3",
   "language": "python",
   "name": "python3"
  },
  "language_info": {
   "codemirror_mode": {
    "name": "ipython",
    "version": 3
   },
   "file_extension": ".py",
   "mimetype": "text/x-python",
   "name": "python",
   "nbconvert_exporter": "python",
   "pygments_lexer": "ipython3",
   "version": "3.8.8"
  }
 },
 "nbformat": 4,
 "nbformat_minor": 5
}
